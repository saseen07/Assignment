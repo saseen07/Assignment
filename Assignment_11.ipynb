{
 "cells": [
  {
   "cell_type": "markdown",
   "metadata": {},
   "source": [
    "### Assignment\n",
    "\n",
    "##### 1. Create a video and attach border of different colour\n",
    "##### 2. Save the video\n",
    "##### 3. Create a video file player that can play any video file pass to it from any commandline."
   ]
  },
  {
   "cell_type": "code",
   "execution_count": 27,
   "metadata": {},
   "outputs": [],
   "source": [
    "import cv2 as cv\n",
    "\n",
    "\n",
    "capture = cv.VideoCapture(0)\n",
    "# check if connected\n",
    "if capture.isOpened() is False:\n",
    "    print(\"Error opening camera 0\")\n",
    "    exit()\n",
    "\n",
    "# Define the codec and create VideoWriter object\n",
    "fourcc = cv.VideoWriter_fourcc(*'XVID')\n",
    "video_out = cv.VideoWriter('output.avi', fourcc, 20.0, (640,  480))\n",
    "\n",
    "while capture.isOpened():\n",
    "    # capture frames, if read correctly ret is True\n",
    "    ret, frame = capture.read()\n",
    "    width = int(capture.get(3))\n",
    "    height = int(capture.get(4))\n",
    "    \n",
    "    top = int(height*5/100)\n",
    "    frame[:top,:] = [255,255,51] \n",
    "    frame[-top:,:] = [102,255,102] \n",
    "    frame[:,:top] = [178,102,255]\n",
    "    frame[:,-top:] = [128,128,128]\n",
    "\n",
    "    if not ret:\n",
    "        print(\"Didn't receive frame. Stop \")\n",
    "        break\n",
    "\n",
    "    # write the flipped frame\n",
    "    \n",
    "    video_out.write(frame)\n",
    "    \n",
    "    # display frame\n",
    "    \n",
    "    cv.imshow(\"bordered frame\", frame)\n",
    "    \n",
    "\n",
    "    k = cv.waitKey(1) \n",
    "    # check if key is q then exit\n",
    "    if k == ord(\"q\"):\n",
    "        break\n",
    "\n",
    "\n",
    "capture.release()\n",
    "video_out.release()\n",
    "cv.destroyAllWindows()\n",
    "\n"
   ]
  },
  {
   "cell_type": "code",
   "execution_count": 28,
   "metadata": {},
   "outputs": [
    {
     "name": "stdout",
     "output_type": "stream",
     "text": [
      "(480, 640, 3)\n"
     ]
    }
   ],
   "source": [
    "print(frame.shape)"
   ]
  },
  {
   "cell_type": "code",
   "execution_count": 24,
   "metadata": {},
   "outputs": [
    {
     "name": "stdout",
     "output_type": "stream",
     "text": [
      "Didn't receive frame. Stop \n"
     ]
    }
   ],
   "source": [
    "# import sys\n",
    "# import cv2 as cv\n",
    "# import matplotlib.pyplot as plt\n",
    "\n",
    "# # get the file path from command line\n",
    "# # filePath = sys.argv[1]\n",
    "# # get sample file path for \"starry_night.jpg\"\n",
    "# filePath = \"output.avi\"\n",
    "\n",
    "# capture = cv.VideoCapture(filePath)\n",
    "\n",
    "# # check if connected\n",
    "# if capture.isOpened() is False:\n",
    "#     print(\"Error opening camera 0\")\n",
    "#     exit()\n",
    "\n",
    "# while capture.isOpened():\n",
    "#     # capture frames, if read correctly ret is True\n",
    "#     ret, frame = capture.read()\n",
    "\n",
    "#     if not ret:\n",
    "#         print(\"Didn't receive frame. Stop \")\n",
    "#         break\n",
    "\n",
    "#     # display frame\n",
    "#     cv.imshow(\"Camera frame\", frame)\n",
    "\n",
    "#     k = cv.waitKey(60)\n",
    "\n",
    "#     # check if key is q then exit\n",
    "#     if k == ord(\"q\"):\n",
    "#         break\n",
    "\n",
    "# capture.release()\n",
    "# cv.destroyAllWindows()\n"
   ]
  },
  {
   "cell_type": "code",
   "execution_count": null,
   "metadata": {},
   "outputs": [],
   "source": []
  }
 ],
 "metadata": {
  "kernelspec": {
   "display_name": "Python 3",
   "language": "python",
   "name": "python3"
  },
  "language_info": {
   "codemirror_mode": {
    "name": "ipython",
    "version": 3
   },
   "file_extension": ".py",
   "mimetype": "text/x-python",
   "name": "python",
   "nbconvert_exporter": "python",
   "pygments_lexer": "ipython3",
   "version": "3.6.9"
  }
 },
 "nbformat": 4,
 "nbformat_minor": 2
}
