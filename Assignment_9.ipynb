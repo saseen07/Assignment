{
 "cells": [
  {
   "cell_type": "code",
   "execution_count": 1,
   "metadata": {},
   "outputs": [],
   "source": [
    "#1. Create a random array A, of shape (6,6) using randint and seed.\n",
    "#2. Convert the array A, to an identity matrix I.\n",
    "\n"
   ]
  },
  {
   "cell_type": "markdown",
   "metadata": {},
   "source": [
    "I = \n",
    "\n",
    "\\begin{matrix}\n",
    "    1 & 0 & 0 & 0 & 0 & 0 \\\\\n",
    "    0 & 1 & 0 & 0 & 0 & 0 \\\\\n",
    "    0 & 0 & 1 & 0 & 0 & 0 \\\\\n",
    "    0 & 0 & 0 & 1 & 0 & 0 \\\\\n",
    "    0 & 0 & 0 & 0 & 1 & 0 \\\\\n",
    "    0 & 0 & 0 & 0 & 0 & 1 \\\\\n",
    "\\end{matrix}\n",
    "\n"
   ]
  },
  {
   "cell_type": "code",
   "execution_count": 2,
   "metadata": {},
   "outputs": [],
   "source": [
    "def array_properties(a, label='a'):\n",
    "    print(label, '= ')\n",
    "    print(a)\n",
    "    print(\"dim = \", a.ndim)\n",
    "    print(\"shape = \", a.shape)\n",
    "    print(\"datatype = \", a.dtype)\n",
    "    print(\"size = \", a.size)\n",
    "    print()"
   ]
  },
  {
   "cell_type": "code",
   "execution_count": 3,
   "metadata": {},
   "outputs": [
    {
     "name": "stdout",
     "output_type": "stream",
     "text": [
      "A = \n",
      "[[8 8 6 2 8 7]\n",
      " [2 1 5 4 4 5]\n",
      " [7 3 6 4 3 7]\n",
      " [6 1 3 5 8 4]\n",
      " [6 3 9 2 0 4]\n",
      " [2 4 1 7 8 2]]\n",
      "dim =  2\n",
      "shape =  (6, 6)\n",
      "datatype =  int32\n",
      "size =  36\n",
      "\n"
     ]
    }
   ],
   "source": [
    "\n",
    "from numpy import linalg as lg\n",
    "import numpy as np\n",
    "np.random.seed(2)\n",
    "a = np.random.randint(0,10,(6,6))\n",
    "array_properties(a , 'A')\n",
    "\n"
   ]
  },
  {
   "cell_type": "code",
   "execution_count": 4,
   "metadata": {},
   "outputs": [
    {
     "name": "stdout",
     "output_type": "stream",
     "text": [
      "Identity Matrix 1 = \n",
      "[[1 0 0 0 0 0]\n",
      " [0 1 0 0 0 0]\n",
      " [0 0 1 0 0 0]\n",
      " [0 0 0 1 0 0]\n",
      " [0 0 0 0 1 0]\n",
      " [0 0 0 0 0 1]]\n",
      "dim =  2\n",
      "shape =  (6, 6)\n",
      "datatype =  int32\n",
      "size =  36\n",
      "\n"
     ]
    }
   ],
   "source": [
    "a_inv = lg.inv(a)\n",
    "\n",
    "id_1 = a @ a_inv\n",
    "id_1 = np.rint(id_1).astype(int)\n",
    "array_properties(id_1 , 'Identity Matrix 1')"
   ]
  },
  {
   "cell_type": "code",
   "execution_count": 5,
   "metadata": {},
   "outputs": [
    {
     "name": "stdout",
     "output_type": "stream",
     "text": [
      "Identity Matrix 2 = \n",
      "[[1 0 0 0 0 0]\n",
      " [0 1 0 0 0 0]\n",
      " [0 0 1 0 0 0]\n",
      " [0 0 0 1 0 0]\n",
      " [0 0 0 0 1 0]\n",
      " [0 0 0 0 0 1]]\n",
      "dim =  2\n",
      "shape =  (6, 6)\n",
      "datatype =  int32\n",
      "size =  36\n",
      "\n"
     ]
    }
   ],
   "source": [
    "id_2 =  a_inv @ a\n",
    "id_2 = np.rint(id_2).astype(int)\n",
    "array_properties(id_2 , 'Identity Matrix 2')"
   ]
  },
  {
   "cell_type": "code",
   "execution_count": 6,
   "metadata": {},
   "outputs": [
    {
     "name": "stdout",
     "output_type": "stream",
     "text": [
      "Identity Matrix 3 = \n",
      "[[1 0 0 0 0 0]\n",
      " [0 1 0 0 0 0]\n",
      " [0 0 1 0 0 0]\n",
      " [0 0 0 1 0 0]\n",
      " [0 0 0 0 1 0]\n",
      " [0 0 0 0 0 1]]\n",
      "dim =  2\n",
      "shape =  (6, 6)\n",
      "datatype =  int32\n",
      "size =  36\n",
      "\n"
     ]
    }
   ],
   "source": [
    "\n",
    "id_3 = np.copy(a)\n",
    "m,n = id_3.shape\n",
    "\n",
    "np.fill_diagonal(id_3,1)\n",
    "for i in range(n):\n",
    "    #I[i,i] = np.array([1])\n",
    "    id_3[i,i+1:] = np.array([0])\n",
    "    id_3[i+1:,i] = np.array([0])\n",
    "    \n",
    "array_properties(id_3,'Identity Matrix 3')\n",
    "\n"
   ]
  },
  {
   "cell_type": "code",
   "execution_count": 7,
   "metadata": {},
   "outputs": [
    {
     "name": "stdout",
     "output_type": "stream",
     "text": [
      "Identity Matrix 4 = \n",
      "[[1 0 0 0 0 0]\n",
      " [0 1 0 0 0 0]\n",
      " [0 0 1 0 0 0]\n",
      " [0 0 0 1 0 0]\n",
      " [0 0 0 0 1 0]\n",
      " [0 0 0 0 0 1]]\n",
      "dim =  2\n",
      "shape =  (6, 6)\n",
      "datatype =  int32\n",
      "size =  36\n",
      "\n"
     ]
    }
   ],
   "source": [
    "m,n = a.shape\n",
    "\n",
    "# create identity matrix of \n",
    "id_4 = np.eye(n).astype(int)\n",
    "\n",
    "array_properties(id_4,'Identity Matrix 4')\n",
    "\n"
   ]
  },
  {
   "cell_type": "code",
   "execution_count": 8,
   "metadata": {},
   "outputs": [
    {
     "name": "stdout",
     "output_type": "stream",
     "text": [
      "For ID 1 and ID 4  : \n",
      "I = \n",
      "[[ True  True  True  True  True  True]\n",
      " [ True  True  True  True  True  True]\n",
      " [ True  True  True  True  True  True]\n",
      " [ True  True  True  True  True  True]\n",
      " [ True  True  True  True  True  True]\n",
      " [ True  True  True  True  True  True]]\n",
      "dim =  2\n",
      "shape =  (6, 6)\n",
      "datatype =  bool\n",
      "size =  36\n",
      "\n",
      "\n",
      "For ID 2 and ID 4 : \n",
      "I = \n",
      "[[ True  True  True  True  True  True]\n",
      " [ True  True  True  True  True  True]\n",
      " [ True  True  True  True  True  True]\n",
      " [ True  True  True  True  True  True]\n",
      " [ True  True  True  True  True  True]\n",
      " [ True  True  True  True  True  True]]\n",
      "dim =  2\n",
      "shape =  (6, 6)\n",
      "datatype =  bool\n",
      "size =  36\n",
      "\n",
      "\n",
      "For ID 1 and ID 2 : \n",
      "I = \n",
      "[[ True  True  True  True  True  True]\n",
      " [ True  True  True  True  True  True]\n",
      " [ True  True  True  True  True  True]\n",
      " [ True  True  True  True  True  True]\n",
      " [ True  True  True  True  True  True]\n",
      " [ True  True  True  True  True  True]]\n",
      "dim =  2\n",
      "shape =  (6, 6)\n",
      "datatype =  bool\n",
      "size =  36\n",
      "\n"
     ]
    }
   ],
   "source": [
    "\n",
    "c1 = id_4 == id_1\n",
    "c2 = id_4 == id_2\n",
    "c3 = id_1 == id_2\n",
    "\n",
    "\n",
    "print(\"For ID 1 and ID 4  : \")\n",
    "array_properties(c1,'I')\n",
    "print()\n",
    "print(\"For ID 2 and ID 4 : \")\n",
    "array_properties(c2,'I')\n",
    "print()\n",
    "print(\"For ID 1 and ID 2 : \")\n",
    "array_properties(c3,'I')"
   ]
  },
  {
   "cell_type": "code",
   "execution_count": null,
   "metadata": {},
   "outputs": [],
   "source": []
  }
 ],
 "metadata": {
  "kernelspec": {
   "display_name": "Python 3",
   "language": "python",
   "name": "python3"
  },
  "language_info": {
   "codemirror_mode": {
    "name": "ipython",
    "version": 3
   },
   "file_extension": ".py",
   "mimetype": "text/x-python",
   "name": "python",
   "nbconvert_exporter": "python",
   "pygments_lexer": "ipython3",
   "version": "3.6.9"
  }
 },
 "nbformat": 4,
 "nbformat_minor": 2
}
