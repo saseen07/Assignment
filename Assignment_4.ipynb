{
 "cells": [
  {
   "cell_type": "code",
   "execution_count": 1,
   "metadata": {},
   "outputs": [],
   "source": [
    "#1.Write a function to calculate s = 1 + 2 + ..... n\n",
    "    #a) simple way\n",
    "    #b) via recursive function\n"
   ]
  },
  {
   "cell_type": "code",
   "execution_count": 2,
   "metadata": {},
   "outputs": [
    {
     "name": "stdout",
     "output_type": "stream",
     "text": [
      "sum of first 4 numbers is:  10\n"
     ]
    }
   ],
   "source": [
    "\n",
    "def cal(n):\n",
    "    s=0\n",
    "# Calculate this series: s = 1+2+ ... +n\n",
    "    for num in range( n+1):\n",
    "        s+=num\n",
    "    print(\"sum of first\",n, \"numbers is: \", s )\n",
    "\n",
    "cal(4)"
   ]
  },
  {
   "cell_type": "code",
   "execution_count": 3,
   "metadata": {},
   "outputs": [
    {
     "data": {
      "text/plain": [
       "10"
      ]
     },
     "execution_count": 3,
     "metadata": {},
     "output_type": "execute_result"
    }
   ],
   "source": [
    "def sum(n):\n",
    "    if n == 1:\n",
    "        return 1\n",
    "    return sum(n-1) + n\n",
    "\n",
    "sum(4)\n",
    "    \n"
   ]
  },
  {
   "cell_type": "code",
   "execution_count": 4,
   "metadata": {},
   "outputs": [
    {
     "name": "stdout",
     "output_type": "stream",
     "text": [
      "How many terms? 10\n"
     ]
    },
    {
     "data": {
      "text/plain": [
       "[0, 1, 1, 2, 3, 5, 8, 13, 21, 34]"
      ]
     },
     "execution_count": 4,
     "metadata": {},
     "output_type": "execute_result"
    }
   ],
   "source": [
    "#2 Write a function to create Fibonacci sequance (0,1,1,2,3,5,...)\n",
    "    #tip: The function gets the number of term and produce the terms from 0 to n\n",
    "    #Note : once without recurssion, another time with recursion\n",
    "    \n",
    "def fibo(n):\n",
    "    if n == 1:\n",
    "        return [0]\n",
    "    if n == 2:\n",
    "        return [0, 1]\n",
    "    fibs = [0, 1]\n",
    "    for i in range(2, n):\n",
    "        fibs.append(fibs[-1] + fibs[-2])\n",
    "    return fibs\n",
    "n= int(input(\"How many terms? \"))\n",
    "fibo(n)\n"
   ]
  },
  {
   "cell_type": "code",
   "execution_count": 5,
   "metadata": {},
   "outputs": [
    {
     "name": "stdout",
     "output_type": "stream",
     "text": [
      "How many terms? 10\n",
      "Fibonacci sequence:\n",
      "0\n",
      "1\n",
      "1\n",
      "2\n",
      "3\n",
      "5\n",
      "8\n",
      "13\n",
      "21\n",
      "34\n"
     ]
    }
   ],
   "source": [
    "def fibo(n):  \n",
    "    if n <= 1:  \n",
    "          return n  \n",
    "    else:  \n",
    "          return(fibo(n-1) + fibo(n-2))  \n",
    "# take input from the user  \n",
    "nterms = int(input(\"How many terms? \"))  \n",
    "# check if the number of terms is valid  \n",
    "if nterms <= 0:\n",
    "    print(\"Plese enter a positive integer\")  \n",
    "else:\n",
    "    print(\"Fibonacci sequence:\")  \n",
    "for i in range(nterms):  \n",
    "       print(fibo(i))  "
   ]
  },
  {
   "cell_type": "code",
   "execution_count": 6,
   "metadata": {},
   "outputs": [
    {
     "name": "stdout",
     "output_type": "stream",
     "text": [
      "18\n"
     ]
    }
   ],
   "source": [
    "#1. write down a function to produce this statement:\n",
    "    # f(x,y,z)=2x^2 + 2y + z\n",
    "    # use lambda function\n",
    "    \n",
    "def myfunc(x,y,z): \n",
    "    return lambda a : a*pow(x, 2) + a*y + z\n",
    "\n",
    "mydoubler = myfunc(2 , 3 , 4) #x = 2 , y = 3, z = 4\n",
    "print(mydoubler(2)) # a = 2\n"
   ]
  },
  {
   "cell_type": "code",
   "execution_count": 3,
   "metadata": {},
   "outputs": [
    {
     "name": "stdout",
     "output_type": "stream",
     "text": [
      "The current date and time is 2021-10-21 18:26:47.296844\n"
     ]
    }
   ],
   "source": [
    "#1.Find out the other functions to format date and time of now and use it.\n",
    "#2. Find out more function in math module and try use the code\n",
    "#3. create a module with your name and import function of the previous assignnment\n",
    "#try use code in another file\n",
    "from datetime import datetime\n",
    "    \n",
    "def func():# using now() to get current time \n",
    "        today = datetime.now()\n",
    "        print(\"The current date and time is\",today)\n",
    "if __name__ ==\"__main__\":\n",
    "    func() "
   ]
  },
  {
   "cell_type": "code",
   "execution_count": 7,
   "metadata": {},
   "outputs": [
    {
     "name": "stdout",
     "output_type": "stream",
     "text": [
      "The solution are (-3.8708286933869704+0j) and (-0.12917130661302934+0j)\n"
     ]
    }
   ],
   "source": [
    "#import complex math module\n",
    "import cmath\n",
    "def math(a,b,c):\n",
    "    \n",
    "    # calculate the discriminant\n",
    "    d = (b**2) - (4*a*c)\n",
    "\n",
    "    # find two solutions\n",
    "    sol1 = (-b-cmath.sqrt(d))/(2*a)\n",
    "    sol2 = (-b+cmath.sqrt(d))/(2*a)\n",
    "    print('The solution are {0} and {1}'.format(sol1,sol2))\n",
    "    \n",
    "math(2,8,1)"
   ]
  },
  {
   "cell_type": "code",
   "execution_count": 3,
   "metadata": {},
   "outputs": [
    {
     "data": {
      "text/plain": [
       "18"
      ]
     },
     "execution_count": 3,
     "metadata": {},
     "output_type": "execute_result"
    }
   ],
   "source": [
    "from CreateFile import saseen\n",
    "\n",
    "saseen.mydoubler(2)"
   ]
  },
  {
   "cell_type": "code",
   "execution_count": 2,
   "metadata": {},
   "outputs": [
    {
     "name": "stdout",
     "output_type": "stream",
     "text": [
      "Number\t Student Name \t grade\n",
      "\n",
      "1\t Inamul\t\t 100 \n",
      "\n",
      "2\t Alkisah\t 100\n"
     ]
    }
   ],
   "source": [
    "#1. Create a package with the modules\n",
    "    #(fileHandling) funtion for creating,writing and reading the file, file name be sent by arg\n",
    "    # (destroy): get file name and delete the file.\n",
    "    # Use the package and all modules in your code.\n",
    "\n",
    "from CreateFile import file\n",
    "file.test(\"abc.txt\")\n"
   ]
  },
  {
   "cell_type": "code",
   "execution_count": 1,
   "metadata": {},
   "outputs": [
    {
     "name": "stdout",
     "output_type": "stream",
     "text": [
      "abc.txt\n",
      "file destroyed\n"
     ]
    }
   ],
   "source": [
    "from CreateFile import destroy\n",
    "destroy.func(\"abc.txt\")\n"
   ]
  },
  {
   "cell_type": "code",
   "execution_count": null,
   "metadata": {},
   "outputs": [],
   "source": []
  }
 ],
 "metadata": {
  "kernelspec": {
   "display_name": "Python 3",
   "language": "python",
   "name": "python3"
  }
 },
 "nbformat": 4,
 "nbformat_minor": 2
}
