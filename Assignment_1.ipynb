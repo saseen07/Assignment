{
 "cells": [
  {
   "cell_type": "code",
   "execution_count": 39,
   "metadata": {},
   "outputs": [
    {
     "name": "stdout",
     "output_type": "stream",
     "text": [
      "Receiver address :Mall of Medini, Anchor 6, 79200 Nusajaya, Johor\n",
      "Sender Address:No 819 Jalan Jambu Bol 9 Taman Muhibbah , 81400, Senai, Johor\n",
      "concerned to : Mr Edwin\n",
      "date: 15/10/2021\n",
      "Reason: AI Developer Job Application\n",
      "Name: Saseendran Nair\n",
      "Phone Number: 0167560030\n",
      "Email Address: saseen1221@gmail.com\n"
     ]
    }
   ],
   "source": [
    "rec_add = input(\"Receiver address :\")\n",
    "send_add = input(\"Sender Address:\")\n",
    "person = input(\"concerned to : \")\n",
    "date = input(\"date: \")\n",
    "Reason = input(\"Reason: \")\n",
    "name = input(\"Name: \")\n",
    "phone = input(\"Phone Number: \")\n",
    "email = input(\"Email Address: \")\n"
   ]
  },
  {
   "cell_type": "code",
   "execution_count": 40,
   "metadata": {},
   "outputs": [
    {
     "name": "stdout",
     "output_type": "stream",
     "text": [
      "Mall of Medini, Anchor 6, 79200 Nusajaya, Johor \n",
      "\n",
      "\n",
      "No 819 Jalan Jambu Bol 9 Taman Muhibbah , 81400, Senai, Johor \n",
      "\n",
      "Dear Mr Edwin \t\t\t\t\t\t\t\t\t\t\t 15/10/2021\n",
      "\n",
      "                                        AI Developer Job Application                                       \n",
      "\n",
      "\n",
      "      I am a profoundly resolved I.T. new alumni that holds a Bachelor in Information Technology (honours) \n",
      "      Artificial intelligence from Multimedia University and am prepared to do working autonomously in the field \n",
      "      of Artificial Intelligence. An eager who likes to step up to the plate and search out new challenges.\n",
      "      In a quest for position where I am fit in aiding the organization and simultaneously,\n",
      "      work on my vision and craftmanship.\n",
      "      \n",
      "\n",
      "      I have attached my resume with more information about my education and experiences.\n",
      "      I can be reached anytime by phone or email. I look forward to speaking with you soon.\n",
      "\n",
      "\n",
      "      \n",
      "Sincerely,\n",
      "\n",
      "\n",
      "Saseendran Nair \n",
      "\n",
      "\n",
      "0167560030\n",
      "saseen1221@gmail.com\n"
     ]
    }
   ],
   "source": [
    "print(rec_add,\"\\n\\n\")\n",
    "print(send_add,\"\\n\")\n",
    "\n",
    "print(\"Dear\",person,\"\\t\\t\\t\\t\\t\\t\\t\\t\\t\\t\\t\",date)\n",
    "\n",
    "Rea = Reason.center(105)\n",
    "print(\"\\n\",Rea,\"\\n\")\n",
    "\n",
    "print(\"\"\"\n",
    "      I am a profoundly resolved I.T. new alumni that holds a Bachelor in Information Technology (honours) \n",
    "      Artificial intelligence from Multimedia University and am prepared to do working autonomously in the field \n",
    "      of Artificial Intelligence. An eager who likes to step up to the plate and search out new challenges.\n",
    "      In a quest for position where I am fit in aiding the organization and simultaneously,\n",
    "      work on my vision and craftmanship.\n",
    "      \"\"\")\n",
    "\n",
    "print(\"\"\"\n",
    "      I have attached my resume with more information about my education and experiences.\n",
    "      I can be reached anytime by phone or email. I look forward to speaking with you soon.\\n\\n\n",
    "      \"\"\")\n",
    "\n",
    "print(\"Sincerely,\\n\\n\")\n",
    "print(name,\"\\n\\n\")\n",
    "print(phone)\n",
    "print(email)\n"
   ]
  },
  {
   "cell_type": "code",
   "execution_count": 41,
   "metadata": {},
   "outputs": [
    {
     "name": "stdout",
     "output_type": "stream",
     "text": [
      "The solution are (-3.8708286933869704+0j) and (-0.12917130661302934+0j)\n"
     ]
    }
   ],
   "source": [
    "# Solve the quadratic equation ax**2 + bx + c = 0\n",
    "\n",
    "# import complex math module\n",
    "import cmath\n",
    "\n",
    "a = 2\n",
    "b = 8\n",
    "c = 1\n",
    "\n",
    "# calculate the discriminant\n",
    "d = (b**2) - (4*a*c)\n",
    "\n",
    "# find two solutions\n",
    "sol1 = (-b-cmath.sqrt(d))/(2*a)\n",
    "sol2 = (-b+cmath.sqrt(d))/(2*a)\n",
    "\n",
    "print('The solution are {0} and {1}'.format(sol1,sol2))"
   ]
  },
  {
   "cell_type": "code",
   "execution_count": null,
   "metadata": {},
   "outputs": [],
   "source": []
  }
 ],
 "metadata": {
  "kernelspec": {
   "display_name": "Python 3",
   "language": "python",
   "name": "python3"
  },
  "language_info": {
   "codemirror_mode": {
    "name": "ipython",
    "version": 3
   },
   "file_extension": ".py",
   "mimetype": "text/x-python",
   "name": "python",
   "nbconvert_exporter": "python",
   "pygments_lexer": "ipython3",
   "version": "3.6.9"
  }
 },
 "nbformat": 4,
 "nbformat_minor": 2
}
