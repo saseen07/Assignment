{
 "cells": [
  {
   "cell_type": "markdown",
   "metadata": {},
   "source": [
    "### Part 1"
   ]
  },
  {
   "cell_type": "code",
   "execution_count": 1,
   "metadata": {},
   "outputs": [],
   "source": [
    "#1. define a set for all courses in your major (4)\n",
    "x = {\"ai\",\"nlp\",\"ml\",\"cn\"}"
   ]
  },
  {
   "cell_type": "code",
   "execution_count": 2,
   "metadata": {},
   "outputs": [],
   "source": [
    "#2. Define a set of courses you passed\n",
    "y = {\"ai\",\"cs\"}"
   ]
  },
  {
   "cell_type": "code",
   "execution_count": 3,
   "metadata": {},
   "outputs": [
    {
     "name": "stdout",
     "output_type": "stream",
     "text": [
      "{'nlp', 'cn', 'ml'}\n"
     ]
    }
   ],
   "source": [
    "#3. find out which courses you haven't passed yet\n",
    "print(x.difference(y))"
   ]
  },
  {
   "cell_type": "code",
   "execution_count": 4,
   "metadata": {},
   "outputs": [],
   "source": [
    "#4. define a set of all courses you take (whatever you passed now passed or fail )\n",
    "w={\"ai\",\"nlp\",\"ml\",\"cn\",\"cs\"}"
   ]
  },
  {
   "cell_type": "code",
   "execution_count": 5,
   "metadata": {},
   "outputs": [
    {
     "name": "stdout",
     "output_type": "stream",
     "text": [
      "{'ai', 'cs'}\n",
      "{'nlp', 'cn', 'ml'}\n",
      "{'nlp', 'cn', 'ml'}\n"
     ]
    }
   ],
   "source": [
    "#5.find out the courses you take previously and not passed\n",
    "p=w.intersection(y)\n",
    "print(p)\n",
    "print(w.difference(p))\n",
    "print(w.difference(y))"
   ]
  },
  {
   "cell_type": "markdown",
   "metadata": {},
   "source": [
    "### Part 2"
   ]
  },
  {
   "cell_type": "code",
   "execution_count": 6,
   "metadata": {},
   "outputs": [
    {
     "name": "stdout",
     "output_type": "stream",
     "text": [
      "dict_keys(['sifar', 'satu', 'dua', 'tiga', 'empat', 'lima'])\n",
      "['sifar', 'satu', 'dua', 'tiga', 'empat', 'lima', 'enam', 'tujuh', 'lapan', 'sembilan', 'sepuluh']\n",
      "['', 'one', '', '', 'four', 'five', 'six', '', 'eight', '', 'ten']\n",
      "11\n",
      "11\n"
     ]
    }
   ],
   "source": [
    "#1. define malay/english dictionary for numbers 0 to 5\n",
    "\n",
    "lan = {\"sifar\":\"zero\",\"satu\":\"one\",\"dua\":\"two\",\"tiga\":\"three\",\"empat\":\"four\",\"lima\":\"five\"}\n",
    "\n",
    "#2. take out the Malay word from dictionary\n",
    "print(lan.keys())\n",
    "\n",
    "#3. define the set of numbers from zero to ten\n",
    "x = {\"sifar\":\"\",\"satu\":\"one\",\"dua\":\"\",\"tiga\":\"\",\"empat\":\"four\",\"lima\":\"five\",\"enam\":\"six\",\"tujuh\":\"\",\"lapan\":\"eight\",\"sembilan\":\"\",\"sepuluh\":\"ten\"}\n",
    "#4. find out which numbers are not defined in your dictionary\n",
    "key=list(x.keys())\n",
    "print(key)\n",
    "val=list(x.values())\n",
    "print(val)\n",
    "\n",
    "print(len(key))\n",
    "print(len(val))"
   ]
  },
  {
   "cell_type": "code",
   "execution_count": 7,
   "metadata": {},
   "outputs": [
    {
     "name": "stdout",
     "output_type": "stream",
     "text": [
      "Add the missing key for sifar to dictionary (malay):zero\n",
      "Add the missing key for dua to dictionary (malay):two\n",
      "Add the missing key for tiga to dictionary (malay):three\n",
      "Add the missing key for tujuh to dictionary (malay):seven\n",
      "Add the missing key for sembilan to dictionary (malay):nine\n",
      "{'sifar': 'zero', 'satu': 'one', 'dua': 'two', 'tiga': 'three', 'empat': 'four', 'lima': 'five', 'enam': 'six', 'tujuh': 'seven', 'lapan': 'eight', 'sembilan': 'nine', 'sepuluh': 'ten'}\n"
     ]
    }
   ],
   "source": [
    "#5. ask from the user input to add them to the dictionary\n",
    "length =len(val)\n",
    "\n",
    "for i in range(length):\n",
    "    if val[i] ==\"\":\n",
    "        user = input(f\"Add the missing key for {key[i]} to dictionary (malay):\")\n",
    "        x[key[i]] = user\n",
    "\n",
    "        \n",
    "#6. print completed dictionary\n",
    "print(x)"
   ]
  },
  {
   "cell_type": "markdown",
   "metadata": {},
   "source": [
    "### Part 3"
   ]
  },
  {
   "cell_type": "code",
   "execution_count": 8,
   "metadata": {},
   "outputs": [
    {
     "name": "stdout",
     "output_type": "stream",
     "text": [
      "what is value of n: 4\n",
      "sum of first  4 numbers is:  10\n"
     ]
    }
   ],
   "source": [
    "#for loop\n",
    "\n",
    "# Get an integer value from user (n).\n",
    "n = int(input(\"what is value of n: \"))\n",
    "\n",
    "s=0\n",
    "# Calculate this series: s = 1+2+ ... +n\n",
    "for num in range(0, n+1, 1):\n",
    "    s+=num\n",
    "print(\"sum of first \",n, \"numbers is: \", s )\n",
    "#print s\n",
    "#e.g: n=4 s=10\n",
    "#e.g n=0 s=0\n",
    "#e.g: n=1 s=1\n",
    "# write this program with both while and for instruction"
   ]
  },
  {
   "cell_type": "code",
   "execution_count": 9,
   "metadata": {},
   "outputs": [
    {
     "name": "stdout",
     "output_type": "stream",
     "text": [
      "what is value of n:5\n",
      "sum of first  5 numbers is:  15\n"
     ]
    }
   ],
   "source": [
    "#While loop\n",
    "n = int(input(\"what is value of n:\"))\n",
    "s= 0\n",
    "i = 1\n",
    "\n",
    "while i <= n:\n",
    "    s += i\n",
    "    i +=1    \n",
    "\n",
    "# print the sum\n",
    "print(\"sum of first \",n, \"numbers is: \", s)"
   ]
  },
  {
   "cell_type": "code",
   "execution_count": null,
   "metadata": {},
   "outputs": [],
   "source": []
  },
  {
   "cell_type": "code",
   "execution_count": null,
   "metadata": {},
   "outputs": [],
   "source": []
  }
 ],
 "metadata": {
  "kernelspec": {
   "display_name": "Python 3",
   "language": "python",
   "name": "python3"
  },
  "language_info": {
   "codemirror_mode": {
    "name": "ipython",
    "version": 3
   },
   "file_extension": ".py",
   "mimetype": "text/x-python",
   "name": "python",
   "nbconvert_exporter": "python",
   "pygments_lexer": "ipython3",
   "version": "3.6.9"
  }
 },
 "nbformat": 4,
 "nbformat_minor": 2
}
