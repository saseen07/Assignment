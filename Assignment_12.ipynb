{
 "cells": [
  {
   "cell_type": "code",
   "execution_count": 1,
   "metadata": {},
   "outputs": [],
   "source": [
    "# define a dictionary\n",
    "colors = {\n",
    "    'BLUE': (255, 0, 0),\n",
    "    'GREEN': (0, 255, 0),\n",
    "    'RED': (0, 0, 255),\n",
    "    'YELLOW': (0, 255, 255),\n",
    "    'MAGENTA': (255, 0, 255),\n",
    "    'CYAN': (255, 255, 0),\n",
    "    'DARK_GRAY': (50, 50, 50),\n",
    "    'LIGHT_GRAY': (200, 200, 200),\n",
    "    'SEA_BLUE' : (89,100,0),\n",
    "    'MAROON' : (0,0,128),\n",
    "}\n"
   ]
  },
  {
   "cell_type": "code",
   "execution_count": 2,
   "metadata": {},
   "outputs": [],
   "source": [
    "import numpy as np\n",
    "\n",
    "def create_canvas(height=500, width=500, bgColor=0):\n",
    "    # create the image (canvas)\n",
    "    canvas = np.zeros((height, width, 3), dtype='uint8')\n",
    "    if bgColor != 0:\n",
    "        canvas[:] = bgColor\n",
    "    return canvas\n",
    "\n",
    "def show_in_matplotlib(img, figsize=(6,8)):\n",
    "    imgRGB = cv.cvtColor(img, cv.COLOR_BGR2RGB)\n",
    "    plt.figure(figsize=figsize)\n",
    "    \n",
    "    plt.imshow(imgRGB)\n",
    "    plt.show()\n"
   ]
  },
  {
   "cell_type": "code",
   "execution_count": 7,
   "metadata": {},
   "outputs": [
    {
     "data": {
      "image/png": "[encoded data removed]",
      "text/plain": [
       "<Figure size 432x576 with 1 Axes>"
      ]
     },
     "metadata": {
      "needs_background": "light"
     },
     "output_type": "display_data"
    }
   ],
   "source": [
    "import numpy as np\n",
    "import matplotlib.pyplot as plt\n",
    "import cv2 as cv\n",
    "\n",
    "\n",
    "img = create_canvas(height=400, width=400, bgColor=colors['LIGHT_GRAY'])\n",
    "\n",
    "pts = np.array([[50,250],[100,100],[150,250]], np.int32)\n",
    "pts1 = pts.reshape((-1, 1, 2))\n",
    "# draw triangle\n",
    "cv.polylines(img, [pts1], True, colors['BLUE'], 3)\n",
    "\n",
    "show_in_matplotlib(img)"
   ]
  },
  {
   "cell_type": "code",
   "execution_count": 4,
   "metadata": {},
   "outputs": [
    {
     "data": {
      "image/png": "[encoded data removed]",
      "text/plain": [
       "<Figure size 432x576 with 1 Axes>"
      ]
     },
     "metadata": {
      "needs_background": "light"
     },
     "output_type": "display_data"
    }
   ],
   "source": [
    "#Activity 8\n",
    "\n",
    "#1. Draw a triangle \n",
    "#2. Draw a hexagon \n",
    "#3. Draw a decagon\n",
    "#4. Draw a line with 7 points that will not meet\n",
    "\n",
    "import numpy as np\n",
    "import matplotlib.pyplot as plt\n",
    "import cv2 as cv\n",
    "\n",
    "\n",
    "img = create_canvas(height=400, width=400, bgColor=colors['LIGHT_GRAY'])\n",
    "\n",
    "pts = np.array([[25, 70], [25, 160],  [110, 200], [200, 160], [200, 70], [110, 20]], np.int32)\n",
    "pts = pts.reshape((-1, 1, 2))\n",
    "# draw hexagon\n",
    "cv.polylines(img, [pts], True, colors['GREEN'], 3)\n",
    "\n",
    "\n",
    "\n",
    "\n",
    "\n",
    "\n",
    "show_in_matplotlib(img)"
   ]
  },
  {
   "cell_type": "code",
   "execution_count": 5,
   "metadata": {},
   "outputs": [
    {
     "data": {
      "image/png": "[encoded data removed]",
      "text/plain": [
       "<Figure size 432x576 with 1 Axes>"
      ]
     },
     "metadata": {
      "needs_background": "light"
     },
     "output_type": "display_data"
    }
   ],
   "source": [
    "import numpy as np\n",
    "import matplotlib.pyplot as plt\n",
    "import cv2 as cv\n",
    "\n",
    "\n",
    "img = create_canvas(height=400, width=400, bgColor=colors['LIGHT_GRAY'])\n",
    "\n",
    "pts = np.array([[123, 29], [39,56],[25,100],[39,144],[77,171],[123,171],[161,144],[175,100],[161,56],[123,29]], np.int32)\n",
    "pts = pts.reshape((-1, 2, 1))\n",
    "# draw hexagon\n",
    "cv.polylines(img, [pts], True, colors['MAROON'], 3)\n",
    "\n",
    "show_in_matplotlib(img)"
   ]
  },
  {
   "cell_type": "code",
   "execution_count": 6,
   "metadata": {},
   "outputs": [
    {
     "data": {
      "image/png": "[encoded data removed]",
      "text/plain": [
       "<Figure size 432x576 with 1 Axes>"
      ]
     },
     "metadata": {
      "needs_background": "light"
     },
     "output_type": "display_data"
    }
   ],
   "source": [
    "import numpy as np\n",
    "import matplotlib.pyplot as plt\n",
    "import cv2 as cv\n",
    "\n",
    "\n",
    "img = create_canvas(height=400, width=400, bgColor=colors['LIGHT_GRAY'])\n",
    "\n",
    "\n",
    "pts = np.array([[150,150], [200,200], [270,200], [350,400],[400,400],[500,400],[600,500],[700,400]])\n",
    "pts = np.int32((pts * 0.5))\n",
    "pts = pts.reshape((-1, 1, 2))\n",
    "# draw triangle\n",
    "cv.polylines(img, [pts], False, colors['MAGENTA'], 3) #line not joined if false\n",
    "\n",
    "show_in_matplotlib(img)"
   ]
  },
  {
   "cell_type": "code",
   "execution_count": null,
   "metadata": {},
   "outputs": [],
   "source": []
  }
 ],
 "metadata": {
  "kernelspec": {
   "display_name": "Python 3",
   "language": "python",
   "name": "python3"
  },
  "language_info": {
   "codemirror_mode": {
    "name": "ipython",
    "version": 3
   },
   "file_extension": ".py",
   "mimetype": "text/x-python",
   "name": "python",
   "nbconvert_exporter": "python",
   "pygments_lexer": "ipython3",
   "version": "3.6.9"
  }
 },
 "nbformat": 4,
 "nbformat_minor": 2
}
