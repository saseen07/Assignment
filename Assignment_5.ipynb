{
 "cells": [
  {
   "cell_type": "code",
   "execution_count": 1,
   "metadata": {},
   "outputs": [
    {
     "name": "stdout",
     "output_type": "stream",
     "text": [
      "Name : John \tStudent ID: 1161233556 \tCourse :Security\n",
      "Name : Ali \tStudent ID: 1161236954 \tCourse :Data Commnunication\n",
      "Name : Bob \tStudent ID: 1158961476 \tCourse :Artificial Intelligence\n"
     ]
    }
   ],
   "source": [
    "#1. define a class for student\n",
    "#2. class contains these properties: 1.name 2.studID 3.course\n",
    "#3. class contains some methods\n",
    "#4. __init__ method (self,name,sID,course)\n",
    "#5. print method to print all info of student in good format\n",
    "#6. after define class make 3 objects from the class and fill them with your info and 2 friends\n",
    "    # using print function of class\n",
    "\n",
    "class Student:\n",
    "    def __init__(self,name,sID,course):\n",
    "        self.name = name\n",
    "        self.sID = sID\n",
    "        self.course = course\n",
    "        \n",
    "    def func(self):\n",
    "        print(\"Name : \"+self.name+\" \\tStudent ID: \"+self.sID+\" \\tCourse :\"+self.course)\n",
    "    \n",
    "s1 = Student(\"John\",\"1161233556\",\"Security\")\n",
    "s2 = Student(\"Ali\",\"1161236954\",\"Data Commnunication\")\n",
    "s3 = Student(\"Bob\",\"1158961476\",\"Artificial Intelligence\")\n",
    "\n",
    "s1.func()\n",
    "s2.func()\n",
    "s3.func()"
   ]
  },
  {
   "cell_type": "code",
   "execution_count": 4,
   "metadata": {},
   "outputs": [
    {
     "name": "stdout",
     "output_type": "stream",
     "text": [
      "Student name :  Saseendran\n",
      "Student ID : 1161200770\n",
      "Student course : {'ai', 'cn', 'nlp', 'ml', 'cs'}\n",
      "Major : AI\n",
      "Major courses :  {'ai', 'cn', 'nlp', 'ml', 'cs'}\n",
      "Average score : 73.8\n",
      "Courses to take : {'cn', 'ml'}\n"
     ]
    }
   ],
   "source": [
    "# Inherited from student class\n",
    "#1.to create a model for (BSCstudent)bachelor student (inherits property of student class)\n",
    "# but it have extra properties example like major, average , set of pass and fail subjects )\n",
    "# Methods 1:AVG calculate avg from the score of objects taken.\n",
    "# method 2: RequiredCourses(get the set of courses in major)has shows which courses of the major is not taken yet by the student.\n",
    "# printinfo():print all info of the student.\n",
    "class student:\n",
    "    def __init__(self,name,sID,course):\n",
    "        self.name = name\n",
    "        self.sID = sID\n",
    "        self.course = course\n",
    "        \n",
    "    def func(self):\n",
    "        print(\"Student name : \", self.name)\n",
    "        print(\"Student ID :\",self.sID)\n",
    "        print(\"Student course :\", self.course)\n",
    "        \n",
    "class BSCstudent(student):\n",
    "    def __init__(self,name,sID,major,course,pas,fail):\n",
    "        super().__init__(name,sID,course)\n",
    "        self.major = major\n",
    "        self.course = course\n",
    "        self.pas = pas\n",
    "        self.fail = fail\n",
    "    \n",
    "    def average(self):\n",
    "        x = list(self.pas.values())\n",
    "        y = list(self.fail.values())\n",
    "        #print(x)\n",
    "        #print(y)\n",
    "        \n",
    "        total = x + y\n",
    "        #print(total)\n",
    "        avg = sum(total)/len(total)\n",
    "       # print(avg)\n",
    "        return avg\n",
    "        \n",
    "        \n",
    "    def RequiredCourses(self):\n",
    "        \n",
    "        crs=self.course.difference(self.pas.keys())\n",
    "        return crs\n",
    "       \n",
    "    \n",
    "    def printInfo(self):\n",
    "        avg = self.average()\n",
    "        crs = self.RequiredCourses()\n",
    "        super().func()\n",
    "        print(\"Major :\",self.major)\n",
    "        print(\"Major courses : \",self.course)\n",
    "        print(\"Average score :\", avg)\n",
    "        print(\"Courses to take :\",crs)\n",
    "       # print(self.course.difference(self.pas.keys()))\n",
    "\n",
    "        \n",
    "\n",
    "bachelor = BSCstudent(\"Saseendran\",1161200770,\"AI\",{\"ai\",\"nlp\",\"ml\",\"cn\",\"cs\"}, {\"ai\":90,\"cs\":87,\"nlp\":95},{\"cn\":49,\"ml\":48})\n",
    "\n",
    "bachelor.printInfo()"
   ]
  },
  {
   "cell_type": "code",
   "execution_count": null,
   "metadata": {},
   "outputs": [],
   "source": []
  }
 ],
 "metadata": {
  "kernelspec": {
   "display_name": "Python 3",
   "language": "python",
   "name": "python3"
  },
  "language_info": {
   "codemirror_mode": {
    "name": "ipython",
    "version": 3
   },
   "file_extension": ".py",
   "mimetype": "text/x-python",
   "name": "python",
   "nbconvert_exporter": "python",
   "pygments_lexer": "ipython3",
   "version": "3.6.9"
  }
 },
 "nbformat": 4,
 "nbformat_minor": 2
}
