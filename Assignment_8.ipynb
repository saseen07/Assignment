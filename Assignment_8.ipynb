{
 "cells": [
  {
   "cell_type": "code",
   "execution_count": 1,
   "metadata": {},
   "outputs": [],
   "source": [
    "#1. Create a 3D data of shape (10,5,3) with values equal zero.\n",
    "#2. Create another array with values 255 and shape (10,5,3).\n",
    "#3. Join the 2 array horizontally\n",
    "#4. Create an array of random unsigned integer of 8 bits with shape (50,50,3)\n",
    "#5. Convert the array from question 4, convert top part to red(255,0,0) and bottom to green(0,0,255)\n",
    "#6. Seed value is 11\n",
    "#7. Display or show each data "
   ]
  },
  {
   "cell_type": "code",
   "execution_count": 2,
   "metadata": {},
   "outputs": [],
   "source": [
    "def array_properties(a, label='a'):\n",
    "    print(label, '= ')\n",
    "    print(a)\n",
    "    print(\"dim = \", a.ndim)\n",
    "    print(\"shape = \", a.shape)\n",
    "    print(\"datatype = \", a.dtype)\n",
    "    print(\"size = \", a.size)\n",
    "    print()"
   ]
  },
  {
   "cell_type": "code",
   "execution_count": 3,
   "metadata": {},
   "outputs": [
    {
     "name": "stdout",
     "output_type": "stream",
     "text": [
      "a = \n",
      "[[[0 0 0]\n",
      "  [0 0 0]\n",
      "  [0 0 0]\n",
      "  [0 0 0]\n",
      "  [0 0 0]]\n",
      "\n",
      " [[0 0 0]\n",
      "  [0 0 0]\n",
      "  [0 0 0]\n",
      "  [0 0 0]\n",
      "  [0 0 0]]\n",
      "\n",
      " [[0 0 0]\n",
      "  [0 0 0]\n",
      "  [0 0 0]\n",
      "  [0 0 0]\n",
      "  [0 0 0]]\n",
      "\n",
      " [[0 0 0]\n",
      "  [0 0 0]\n",
      "  [0 0 0]\n",
      "  [0 0 0]\n",
      "  [0 0 0]]\n",
      "\n",
      " [[0 0 0]\n",
      "  [0 0 0]\n",
      "  [0 0 0]\n",
      "  [0 0 0]\n",
      "  [0 0 0]]\n",
      "\n",
      " [[0 0 0]\n",
      "  [0 0 0]\n",
      "  [0 0 0]\n",
      "  [0 0 0]\n",
      "  [0 0 0]]\n",
      "\n",
      " [[0 0 0]\n",
      "  [0 0 0]\n",
      "  [0 0 0]\n",
      "  [0 0 0]\n",
      "  [0 0 0]]\n",
      "\n",
      " [[0 0 0]\n",
      "  [0 0 0]\n",
      "  [0 0 0]\n",
      "  [0 0 0]\n",
      "  [0 0 0]]\n",
      "\n",
      " [[0 0 0]\n",
      "  [0 0 0]\n",
      "  [0 0 0]\n",
      "  [0 0 0]\n",
      "  [0 0 0]]\n",
      "\n",
      " [[0 0 0]\n",
      "  [0 0 0]\n",
      "  [0 0 0]\n",
      "  [0 0 0]\n",
      "  [0 0 0]]]\n",
      "dim =  3\n",
      "shape =  (10, 5, 3)\n",
      "datatype =  int32\n",
      "size =  150\n",
      "\n"
     ]
    }
   ],
   "source": [
    "import matplotlib.pyplot as plt\n",
    "import numpy as np\n",
    "\n",
    "zer = np.zeros((10,5,3),dtype=np.int32)\n",
    "array_properties(zer)\n"
   ]
  },
  {
   "cell_type": "code",
   "execution_count": 4,
   "metadata": {},
   "outputs": [
    {
     "data": {
      "text/plain": [
       "Text(0.5, 1.0, 'Zeros')"
      ]
     },
     "execution_count": 4,
     "metadata": {},
     "output_type": "execute_result"
    },
    {
     "data": {
      "image/png": "[encoded data removed]",
      "text/plain": [
       "<Figure size 432x288 with 1 Axes>"
      ]
     },
     "metadata": {
      "needs_background": "light"
     },
     "output_type": "display_data"
    }
   ],
   "source": [
    "plt.imshow(zer)\n",
    "plt.title('Zeros')"
   ]
  },
  {
   "cell_type": "code",
   "execution_count": 5,
   "metadata": {},
   "outputs": [
    {
     "name": "stdout",
     "output_type": "stream",
     "text": [
      "a = \n",
      "[[[255 255 255]\n",
      "  [255 255 255]\n",
      "  [255 255 255]\n",
      "  [255 255 255]\n",
      "  [255 255 255]]\n",
      "\n",
      " [[255 255 255]\n",
      "  [255 255 255]\n",
      "  [255 255 255]\n",
      "  [255 255 255]\n",
      "  [255 255 255]]\n",
      "\n",
      " [[255 255 255]\n",
      "  [255 255 255]\n",
      "  [255 255 255]\n",
      "  [255 255 255]\n",
      "  [255 255 255]]\n",
      "\n",
      " [[255 255 255]\n",
      "  [255 255 255]\n",
      "  [255 255 255]\n",
      "  [255 255 255]\n",
      "  [255 255 255]]\n",
      "\n",
      " [[255 255 255]\n",
      "  [255 255 255]\n",
      "  [255 255 255]\n",
      "  [255 255 255]\n",
      "  [255 255 255]]\n",
      "\n",
      " [[255 255 255]\n",
      "  [255 255 255]\n",
      "  [255 255 255]\n",
      "  [255 255 255]\n",
      "  [255 255 255]]\n",
      "\n",
      " [[255 255 255]\n",
      "  [255 255 255]\n",
      "  [255 255 255]\n",
      "  [255 255 255]\n",
      "  [255 255 255]]\n",
      "\n",
      " [[255 255 255]\n",
      "  [255 255 255]\n",
      "  [255 255 255]\n",
      "  [255 255 255]\n",
      "  [255 255 255]]\n",
      "\n",
      " [[255 255 255]\n",
      "  [255 255 255]\n",
      "  [255 255 255]\n",
      "  [255 255 255]\n",
      "  [255 255 255]]\n",
      "\n",
      " [[255 255 255]\n",
      "  [255 255 255]\n",
      "  [255 255 255]\n",
      "  [255 255 255]\n",
      "  [255 255 255]]]\n",
      "dim =  3\n",
      "shape =  (10, 5, 3)\n",
      "datatype =  int32\n",
      "size =  150\n",
      "\n"
     ]
    }
   ],
   "source": [
    "shape = (10,5,3)\n",
    "arr = np.full(shape,255)\n",
    "array_properties(arr)\n"
   ]
  },
  {
   "cell_type": "code",
   "execution_count": 6,
   "metadata": {},
   "outputs": [
    {
     "data": {
      "text/plain": [
       "Text(0.5, 1.0, 'Array 255')"
      ]
     },
     "execution_count": 6,
     "metadata": {},
     "output_type": "execute_result"
    },
    {
     "data": {
      "image/png": "[encoded data removed]",
      "text/plain": [
       "<Figure size 432x288 with 1 Axes>"
      ]
     },
     "metadata": {
      "needs_background": "light"
     },
     "output_type": "display_data"
    }
   ],
   "source": [
    "plt.imshow(arr)\n",
    "plt.title('Array 255')"
   ]
  },
  {
   "cell_type": "code",
   "execution_count": 7,
   "metadata": {},
   "outputs": [
    {
     "name": "stdout",
     "output_type": "stream",
     "text": [
      "a = \n",
      "[[[  0   0   0]\n",
      "  [  0   0   0]\n",
      "  [  0   0   0]\n",
      "  [  0   0   0]\n",
      "  [  0   0   0]\n",
      "  [255 255 255]\n",
      "  [255 255 255]\n",
      "  [255 255 255]\n",
      "  [255 255 255]\n",
      "  [255 255 255]]\n",
      "\n",
      " [[  0   0   0]\n",
      "  [  0   0   0]\n",
      "  [  0   0   0]\n",
      "  [  0   0   0]\n",
      "  [  0   0   0]\n",
      "  [255 255 255]\n",
      "  [255 255 255]\n",
      "  [255 255 255]\n",
      "  [255 255 255]\n",
      "  [255 255 255]]\n",
      "\n",
      " [[  0   0   0]\n",
      "  [  0   0   0]\n",
      "  [  0   0   0]\n",
      "  [  0   0   0]\n",
      "  [  0   0   0]\n",
      "  [255 255 255]\n",
      "  [255 255 255]\n",
      "  [255 255 255]\n",
      "  [255 255 255]\n",
      "  [255 255 255]]\n",
      "\n",
      " [[  0   0   0]\n",
      "  [  0   0   0]\n",
      "  [  0   0   0]\n",
      "  [  0   0   0]\n",
      "  [  0   0   0]\n",
      "  [255 255 255]\n",
      "  [255 255 255]\n",
      "  [255 255 255]\n",
      "  [255 255 255]\n",
      "  [255 255 255]]\n",
      "\n",
      " [[  0   0   0]\n",
      "  [  0   0   0]\n",
      "  [  0   0   0]\n",
      "  [  0   0   0]\n",
      "  [  0   0   0]\n",
      "  [255 255 255]\n",
      "  [255 255 255]\n",
      "  [255 255 255]\n",
      "  [255 255 255]\n",
      "  [255 255 255]]\n",
      "\n",
      " [[  0   0   0]\n",
      "  [  0   0   0]\n",
      "  [  0   0   0]\n",
      "  [  0   0   0]\n",
      "  [  0   0   0]\n",
      "  [255 255 255]\n",
      "  [255 255 255]\n",
      "  [255 255 255]\n",
      "  [255 255 255]\n",
      "  [255 255 255]]\n",
      "\n",
      " [[  0   0   0]\n",
      "  [  0   0   0]\n",
      "  [  0   0   0]\n",
      "  [  0   0   0]\n",
      "  [  0   0   0]\n",
      "  [255 255 255]\n",
      "  [255 255 255]\n",
      "  [255 255 255]\n",
      "  [255 255 255]\n",
      "  [255 255 255]]\n",
      "\n",
      " [[  0   0   0]\n",
      "  [  0   0   0]\n",
      "  [  0   0   0]\n",
      "  [  0   0   0]\n",
      "  [  0   0   0]\n",
      "  [255 255 255]\n",
      "  [255 255 255]\n",
      "  [255 255 255]\n",
      "  [255 255 255]\n",
      "  [255 255 255]]\n",
      "\n",
      " [[  0   0   0]\n",
      "  [  0   0   0]\n",
      "  [  0   0   0]\n",
      "  [  0   0   0]\n",
      "  [  0   0   0]\n",
      "  [255 255 255]\n",
      "  [255 255 255]\n",
      "  [255 255 255]\n",
      "  [255 255 255]\n",
      "  [255 255 255]]\n",
      "\n",
      " [[  0   0   0]\n",
      "  [  0   0   0]\n",
      "  [  0   0   0]\n",
      "  [  0   0   0]\n",
      "  [  0   0   0]\n",
      "  [255 255 255]\n",
      "  [255 255 255]\n",
      "  [255 255 255]\n",
      "  [255 255 255]\n",
      "  [255 255 255]]]\n",
      "dim =  3\n",
      "shape =  (10, 10, 3)\n",
      "datatype =  int32\n",
      "size =  300\n",
      "\n"
     ]
    }
   ],
   "source": [
    "comb = np.hstack((zer, arr))\n",
    "array_properties(comb)"
   ]
  },
  {
   "cell_type": "code",
   "execution_count": 8,
   "metadata": {},
   "outputs": [
    {
     "data": {
      "text/plain": [
       "Text(0.5, 1.0, 'Combined')"
      ]
     },
     "execution_count": 8,
     "metadata": {},
     "output_type": "execute_result"
    },
    {
     "data": {
      "image/png": "[encoded data removed]",
      "text/plain": [
       "<Figure size 432x288 with 1 Axes>"
      ]
     },
     "metadata": {
      "needs_background": "light"
     },
     "output_type": "display_data"
    }
   ],
   "source": [
    "plt.imshow(comb)\n",
    "plt.title('Combined')"
   ]
  },
  {
   "cell_type": "code",
   "execution_count": 9,
   "metadata": {},
   "outputs": [
    {
     "name": "stdout",
     "output_type": "stream",
     "text": [
      "a = \n",
      "[[[153  39  38]\n",
      "  [ 46 191 142]\n",
      "  [124  17  80]\n",
      "  ...\n",
      "  [133  19 253]\n",
      "  [171 114 253]\n",
      "  [ 80 114 197]]\n",
      "\n",
      " [[ 49 199 242]\n",
      "  [240 108  40]\n",
      "  [192  46 112]\n",
      "  ...\n",
      "  [252 215 218]\n",
      "  [204 173 209]\n",
      "  [181 138  86]]\n",
      "\n",
      " [[ 68  94  51]\n",
      "  [124  72 109]\n",
      "  [104  61 114]\n",
      "  ...\n",
      "  [103  25  16]\n",
      "  [ 82  89 112]\n",
      "  [254 187 193]]\n",
      "\n",
      " ...\n",
      "\n",
      " [[168  30 110]\n",
      "  [  8 157  28]\n",
      "  [180  42  68]\n",
      "  ...\n",
      "  [ 86  54 199]\n",
      "  [214 227 108]\n",
      "  [ 80 162  84]]\n",
      "\n",
      " [[175 139 102]\n",
      "  [166 238 191]\n",
      "  [168  18  29]\n",
      "  ...\n",
      "  [ 70 218 138]\n",
      "  [ 78 229 120]\n",
      "  [122 219 106]]\n",
      "\n",
      " [[132 177 155]\n",
      "  [  5  65 212]\n",
      "  [142 108  49]\n",
      "  ...\n",
      "  [113 229 225]\n",
      "  [ 28 122 115]\n",
      "  [177 247 219]]]\n",
      "dim =  3\n",
      "shape =  (50, 50, 3)\n",
      "datatype =  uint8\n",
      "size =  7500\n",
      "\n"
     ]
    }
   ],
   "source": [
    "import numpy as np\n",
    "\n",
    "np.random.seed(11)\n",
    "\n",
    "x = np.random.randint(0,256,size=(50,50,3),dtype=np.uint8)\n",
    "array_properties(x)"
   ]
  },
  {
   "cell_type": "code",
   "execution_count": 10,
   "metadata": {},
   "outputs": [
    {
     "data": {
      "text/plain": [
       "Text(0.5, 1.0, 'Unsigned Integers')"
      ]
     },
     "execution_count": 10,
     "metadata": {},
     "output_type": "execute_result"
    },
    {
     "data": {
      "image/png": "[encoded data removed]",
      "text/plain": [
       "<Figure size 432x288 with 1 Axes>"
      ]
     },
     "metadata": {
      "needs_background": "light"
     },
     "output_type": "display_data"
    }
   ],
   "source": [
    "plt.imshow(x)\n",
    "plt.title('Unsigned Integers')"
   ]
  },
  {
   "cell_type": "code",
   "execution_count": 11,
   "metadata": {},
   "outputs": [
    {
     "name": "stdout",
     "output_type": "stream",
     "text": [
      "a = \n",
      "[[[153  39  38]\n",
      "  [ 46 191 142]\n",
      "  [124  17  80]\n",
      "  ...\n",
      "  [133  19 253]\n",
      "  [171 114 253]\n",
      "  [ 80 114 197]]\n",
      "\n",
      " [[ 49 199 242]\n",
      "  [240 108  40]\n",
      "  [192  46 112]\n",
      "  ...\n",
      "  [252 215 218]\n",
      "  [204 173 209]\n",
      "  [181 138  86]]\n",
      "\n",
      " [[ 68  94  51]\n",
      "  [124  72 109]\n",
      "  [104  61 114]\n",
      "  ...\n",
      "  [103  25  16]\n",
      "  [ 82  89 112]\n",
      "  [254 187 193]]\n",
      "\n",
      " ...\n",
      "\n",
      " [[168  30 110]\n",
      "  [  8 157  28]\n",
      "  [180  42  68]\n",
      "  ...\n",
      "  [ 86  54 199]\n",
      "  [214 227 108]\n",
      "  [ 80 162  84]]\n",
      "\n",
      " [[175 139 102]\n",
      "  [166 238 191]\n",
      "  [168  18  29]\n",
      "  ...\n",
      "  [ 70 218 138]\n",
      "  [ 78 229 120]\n",
      "  [122 219 106]]\n",
      "\n",
      " [[132 177 155]\n",
      "  [  5  65 212]\n",
      "  [142 108  49]\n",
      "  ...\n",
      "  [113 229 225]\n",
      "  [ 28 122 115]\n",
      "  [177 247 219]]]\n",
      "dim =  3\n",
      "shape =  (50, 50, 3)\n",
      "datatype =  uint8\n",
      "size =  7500\n",
      "\n"
     ]
    }
   ],
   "source": [
    "y=np.copy(x)\n",
    "array_properties(y)\n"
   ]
  },
  {
   "cell_type": "code",
   "execution_count": 12,
   "metadata": {},
   "outputs": [
    {
     "data": {
      "text/plain": [
       "Text(0.5, 1.0, 'Unsigned Integers converted')"
      ]
     },
     "execution_count": 12,
     "metadata": {},
     "output_type": "execute_result"
    },
    {
     "data": {
      "image/png": "[encoded data removed]",
      "text/plain": [
       "<Figure size 432x288 with 1 Axes>"
      ]
     },
     "metadata": {
      "needs_background": "light"
     },
     "output_type": "display_data"
    }
   ],
   "source": [
    "y[:26] = np.array([255,0,0])\n",
    "#y[26:36] = np.array([0,0,255])\n",
    "y[26:] = np.array([0,255,0])\n",
    "\n",
    "\n",
    "plt.imshow(y)\n",
    "plt.title('Unsigned Integers converted')"
   ]
  },
  {
   "cell_type": "code",
   "execution_count": 17,
   "metadata": {},
   "outputs": [
    {
     "data": {
      "text/plain": [
       "Text(0.5, 1.0, 'First Row and Last Row')"
      ]
     },
     "execution_count": 17,
     "metadata": {},
     "output_type": "execute_result"
    },
    {
     "data": {
      "image/png": "[encoded data removed]",
      "text/plain": [
       "<Figure size 432x288 with 1 Axes>"
      ]
     },
     "metadata": {
      "needs_background": "light"
     },
     "output_type": "display_data"
    }
   ],
   "source": [
    "FL_row = np.copy(x)\n",
    "\n",
    "FL_row[0] = np.array([255,0,0])\n",
    "FL_row[49] = np.array([0,255,0])\n",
    "\n",
    "plt.imshow(FL_row)\n",
    "plt.title('First Row and Last Row')"
   ]
  },
  {
   "cell_type": "code",
   "execution_count": 19,
   "metadata": {},
   "outputs": [
    {
     "data": {
      "text/plain": [
       "Text(0.5, 1.0, 'First Row and Last Row')"
      ]
     },
     "execution_count": 19,
     "metadata": {},
     "output_type": "execute_result"
    },
    {
     "data": {
      "image/png": "[encoded data removed]",
      "text/plain": [
       "<Figure size 1440x720 with 6 Axes>"
      ]
     },
     "metadata": {
      "needs_background": "light"
     },
     "output_type": "display_data"
    }
   ],
   "source": [
    "import matplotlib.pyplot as plt\n",
    "\n",
    "plt.figure(figsize=(20,10))\n",
    "\n",
    "plt.subplot(1,6,1)\n",
    "plt.imshow(zer)\n",
    "plt.title('Array of Zeros')\n",
    "\n",
    "plt.subplot(1,6,2)\n",
    "plt.imshow(arr)\n",
    "plt.title('Array of 255')\n",
    "\n",
    "plt.subplot(1,6,3)\n",
    "plt.imshow(comb)\n",
    "plt.title('Horizontally combined')\n",
    "\n",
    "plt.subplot(1,6,4)\n",
    "plt.imshow(x)\n",
    "plt.title('Unsigned Integer')\n",
    "\n",
    "\n",
    "plt.subplot(1,6,5)\n",
    "plt.imshow(y)\n",
    "plt.title('unsigned integer converted')\n",
    "\n",
    "plt.subplot(1,6,6)\n",
    "plt.imshow(FL_row)\n",
    "plt.title('First Row and Last Row')"
   ]
  },
  {
   "cell_type": "code",
   "execution_count": null,
   "metadata": {},
   "outputs": [],
   "source": []
  }
 ],
 "metadata": {
  "kernelspec": {
   "display_name": "Python 3",
   "language": "python",
   "name": "python3"
  },
  "language_info": {
   "codemirror_mode": {
    "name": "ipython",
    "version": 3
   },
   "file_extension": ".py",
   "mimetype": "text/x-python",
   "name": "python",
   "nbconvert_exporter": "python",
   "pygments_lexer": "ipython3",
   "version": "3.6.9"
  }
 },
 "nbformat": 4,
 "nbformat_minor": 2
}
