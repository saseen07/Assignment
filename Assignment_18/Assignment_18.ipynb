{
 "cells": [
  {
   "cell_type": "markdown",
   "metadata": {},
   "source": [
    "1. Use labelme create a dataset from the class pictures for each face.use as many pictures as possible\n",
    "\n",
    "### Read\n",
    "- labelme_draw_json image\\ss2.json\n",
    "\n",
    "### convert to dataset\n",
    "- labelme_json_to_dataset image\\ss3.json -o ss3_json"
   ]
  },
  {
   "cell_type": "markdown",
   "metadata": {},
   "source": []
  }
 ],
 "metadata": {
  "language_info": {
   "name": "python"
  },
  "orig_nbformat": 4
 },
 "nbformat": 4,
 "nbformat_minor": 2
}
