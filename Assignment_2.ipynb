{
 "cells": [
  {
   "cell_type": "code",
   "execution_count": 1,
   "metadata": {},
   "outputs": [
    {
     "name": "stdout",
     "output_type": "stream",
     "text": [
      "This is string example....wow!!!\n"
     ]
    }
   ],
   "source": [
    "str1 = \"this is string example....wow!!!\"\n",
    "print (str1.capitalize())\n"
   ]
  },
  {
   "cell_type": "code",
   "execution_count": 2,
   "metadata": {},
   "outputs": [
    {
     "name": "stdout",
     "output_type": "stream",
     "text": [
      "aaaathis is string example....wow!!!aaaa\n"
     ]
    }
   ],
   "source": [
    "str1 = \"this is string example....wow!!!\"\n",
    "print (str1.center(40, 'a'))"
   ]
  },
  {
   "cell_type": "code",
   "execution_count": 3,
   "metadata": {},
   "outputs": [
    {
     "name": "stdout",
     "output_type": "stream",
     "text": [
      "str1.count(sub, 4, 40) :  2\n"
     ]
    }
   ],
   "source": [
    "str1 = \"this is string example....wow!!!\"\n",
    "sub = \"i\"\n",
    "print (\"str1.count(sub, 4, 40) : \",\n",
    "str1.count(sub, 4, 40))"
   ]
  },
  {
   "cell_type": "code",
   "execution_count": 4,
   "metadata": {},
   "outputs": [
    {
     "name": "stdout",
     "output_type": "stream",
     "text": [
      "str1.count(sub) :  1\n"
     ]
    }
   ],
   "source": [
    "sub = \"wow\";\n",
    "print (\"str1.count(sub) : \",str1.count(sub))"
   ]
  },
  {
   "cell_type": "code",
   "execution_count": 5,
   "metadata": {},
   "outputs": [
    {
     "name": "stdout",
     "output_type": "stream",
     "text": [
      "<class 'bytes'>\n",
      "b'D\\xc3\\xbcsseldorf'\n",
      "<class 'str'>\n",
      "Düsseldorf\n"
     ]
    }
   ],
   "source": [
    "city = \"Düsseldorf\"\n",
    "utf8_encoded = city.encode('utf-8')\n",
    "print(type(utf8_encoded)) # bytes\n",
    "print(utf8_encoded) # b'D\\xc3\\xbcsseldorf'\n",
    "decoded_city = utf8_encoded.decode('utf-8')\n",
    "print(type(decoded_city)) # str\n",
    "print(decoded_city) # Düsseldor"
   ]
  },
  {
   "cell_type": "code",
   "execution_count": 6,
   "metadata": {},
   "outputs": [
    {
     "name": "stdout",
     "output_type": "stream",
     "text": [
      "<class 'bytes'>\n",
      "b'D\\xc3\\xbcsseldorf'\n",
      "<class 'str'>\n",
      "Düsseldorf\n"
     ]
    }
   ],
   "source": [
    "city = \"Düsseldorf\"\n",
    "utf8_encoded = city.encode('utf-8')\n",
    "print(type(utf8_encoded)) # bytes\n",
    "print(utf8_encoded) # b'D\\xc3\\xbcsseldorf'\n",
    "decoded_city = utf8_encoded.decode('utf-8')\n",
    "print(type(decoded_city)) # str\n",
    "print(decoded_city) # Düsseldorf"
   ]
  },
  {
   "cell_type": "code",
   "execution_count": 7,
   "metadata": {},
   "outputs": [
    {
     "name": "stdout",
     "output_type": "stream",
     "text": [
      "True\n",
      "True\n",
      "True\n",
      "False\n"
     ]
    }
   ],
   "source": [
    "str1 = \"this is string example....wow!!!\"\n",
    "suffix = \"wow!!!\"\n",
    "print (str1.endswith(suffix))\n",
    "print (str1.endswith(suffix,20))\n",
    "suffix = \"is\"\n",
    "print (str1.endswith(suffix, 2, 4))\n",
    "print (str1.endswith(suffix, 2, 6))\n"
   ]
  },
  {
   "cell_type": "code",
   "execution_count": 8,
   "metadata": {},
   "outputs": [
    {
     "name": "stdout",
     "output_type": "stream",
     "text": [
      "Original string: this is\tstring example....wow!!!\n",
      "Defualt exapanded tab: this is string example....wow!!!\n",
      "Double exapanded tab: this is         string example....wow!!!\n"
     ]
    }
   ],
   "source": [
    "str1 = \"this is\\tstring example....wow!!!\"\n",
    "print (\"Original string: \" + str1)\n",
    "print (\"Defualt exapanded tab: \" + \n",
    "str1.expandtabs())\n",
    "print (\"Double exapanded tab: \" + \n",
    "str1.expandtabs(16))"
   ]
  },
  {
   "cell_type": "code",
   "execution_count": 9,
   "metadata": {},
   "outputs": [
    {
     "name": "stdout",
     "output_type": "stream",
     "text": [
      "15\n",
      "15\n",
      "-1\n"
     ]
    }
   ],
   "source": [
    "str1 = \"this is string example....wow!!!\"\n",
    "str2 = \"exam\"\n",
    "print (str1.find(str2))\n",
    "print (str1.find(str2, 10))\n",
    "print (str1.find(str2, 40))\n"
   ]
  },
  {
   "cell_type": "code",
   "execution_count": 59,
   "metadata": {},
   "outputs": [
    {
     "name": "stdout",
     "output_type": "stream",
     "text": [
      "15\n",
      "15\n"
     ]
    },
    {
     "ename": "ValueError",
     "evalue": "substring not found",
     "output_type": "error",
     "traceback": [
      "\u001b[1;31m---------------------------------------------------------------------------\u001b[0m",
      "\u001b[1;31mValueError\u001b[0m                                Traceback (most recent call last)",
      "\u001b[1;32m<ipython-input-59-b60bed81a65e>\u001b[0m in \u001b[0;36m<module>\u001b[1;34m\u001b[0m\n\u001b[0;32m      3\u001b[0m \u001b[0mprint\u001b[0m \u001b[1;33m(\u001b[0m\u001b[0mstr1\u001b[0m\u001b[1;33m.\u001b[0m\u001b[0mindex\u001b[0m\u001b[1;33m(\u001b[0m\u001b[0mstr2\u001b[0m\u001b[1;33m)\u001b[0m\u001b[1;33m)\u001b[0m\u001b[1;33m\u001b[0m\u001b[1;33m\u001b[0m\u001b[0m\n\u001b[0;32m      4\u001b[0m \u001b[0mprint\u001b[0m \u001b[1;33m(\u001b[0m\u001b[0mstr1\u001b[0m\u001b[1;33m.\u001b[0m\u001b[0mindex\u001b[0m\u001b[1;33m(\u001b[0m\u001b[0mstr2\u001b[0m\u001b[1;33m,\u001b[0m \u001b[1;36m10\u001b[0m\u001b[1;33m)\u001b[0m\u001b[1;33m)\u001b[0m\u001b[1;33m\u001b[0m\u001b[1;33m\u001b[0m\u001b[0m\n\u001b[1;32m----> 5\u001b[1;33m \u001b[0mprint\u001b[0m \u001b[1;33m(\u001b[0m\u001b[0mstr1\u001b[0m\u001b[1;33m.\u001b[0m\u001b[0mindex\u001b[0m\u001b[1;33m(\u001b[0m\u001b[0mstr2\u001b[0m\u001b[1;33m,\u001b[0m \u001b[1;36m40\u001b[0m\u001b[1;33m)\u001b[0m\u001b[1;33m)\u001b[0m\u001b[1;33m\u001b[0m\u001b[1;33m\u001b[0m\u001b[0m\n\u001b[0m",
      "\u001b[1;31mValueError\u001b[0m: substring not found"
     ]
    }
   ],
   "source": [
    "str1 = \"this is string example....wow!!!\"\n",
    "str2 = \"exam\"\n",
    "print (str1.index(str2))\n",
    "print (str1.index(str2, 10))\n",
    "print (str1.index(str2, 40))"
   ]
  },
  {
   "cell_type": "code",
   "execution_count": 11,
   "metadata": {},
   "outputs": [
    {
     "name": "stdout",
     "output_type": "stream",
     "text": [
      "True\n",
      "False\n"
     ]
    }
   ],
   "source": [
    "str1 = \"this2009\"; # No space in this string\n",
    "print (str1.isalnum())\n",
    "str1 = \"this is string example....wow!!!\"\n",
    "print (str1.isalnum())"
   ]
  },
  {
   "cell_type": "code",
   "execution_count": 12,
   "metadata": {},
   "outputs": [
    {
     "name": "stdout",
     "output_type": "stream",
     "text": [
      "False\n",
      "False\n"
     ]
    }
   ],
   "source": [
    "str1 = \"this2009\"; # No space in this string\n",
    "print (str1.isalpha())\n",
    "str2 = \"this is string example....wow!!!\"\n",
    "print (str2.isalpha())\n"
   ]
  },
  {
   "cell_type": "code",
   "execution_count": 13,
   "metadata": {},
   "outputs": [
    {
     "name": "stdout",
     "output_type": "stream",
     "text": [
      "True\n",
      "False\n"
     ]
    }
   ],
   "source": [
    "str1 = \"123456\" # Only digit in this string\n",
    "print (str1.isdigit())\n",
    "str2 = \"this is string example....wow!!!\"\n",
    "print (str2.isdigit())\n"
   ]
  },
  {
   "cell_type": "code",
   "execution_count": 14,
   "metadata": {},
   "outputs": [
    {
     "name": "stdout",
     "output_type": "stream",
     "text": [
      "False\n",
      "True\n"
     ]
    }
   ],
   "source": [
    "str1 = \"THIS is string example....wow!!!\"\n",
    "print (str1.islower())\n",
    "str2 = \"this is string example....wow!!!\"\n",
    "print (str2.islower())"
   ]
  },
  {
   "cell_type": "code",
   "execution_count": 15,
   "metadata": {},
   "outputs": [
    {
     "name": "stdout",
     "output_type": "stream",
     "text": [
      "False\n",
      "True\n"
     ]
    }
   ],
   "source": [
    "str1 = u\"this2009\" \n",
    "print (str1.isnumeric())\n",
    "str2 = u\"23443434\"\n",
    "print (str2.isnumeric())"
   ]
  },
  {
   "cell_type": "code",
   "execution_count": 16,
   "metadata": {},
   "outputs": [
    {
     "name": "stdout",
     "output_type": "stream",
     "text": [
      "True\n",
      "False\n"
     ]
    }
   ],
   "source": [
    "str1 = \" \"\n",
    "print (str1.isspace())\n",
    "str2 = \"This is string example....wow!!!\"\n",
    "print (str2.isspace())"
   ]
  },
  {
   "cell_type": "code",
   "execution_count": 17,
   "metadata": {},
   "outputs": [
    {
     "name": "stdout",
     "output_type": "stream",
     "text": [
      "True\n",
      "False\n"
     ]
    }
   ],
   "source": [
    "str1 = \"This Is String Example...Wow!!!\"\n",
    "print (str1.istitle())\n",
    "str2 = \"This is string example....wow!!!\"\n",
    "print (str2.istitle())\n"
   ]
  },
  {
   "cell_type": "code",
   "execution_count": 18,
   "metadata": {},
   "outputs": [
    {
     "name": "stdout",
     "output_type": "stream",
     "text": [
      "True\n",
      "False\n"
     ]
    }
   ],
   "source": [
    "str1 = \"THIS IS STRING EXAMPLE....WOW!!!\"\n",
    "print (str1.isupper())\n",
    "str2 = \"THIS is string example....wow!!!\"\n",
    "print (str2.isupper())\n"
   ]
  },
  {
   "cell_type": "code",
   "execution_count": 19,
   "metadata": {},
   "outputs": [
    {
     "name": "stdout",
     "output_type": "stream",
     "text": [
      "a-b-c\n"
     ]
    }
   ],
   "source": [
    "s = \"-\"\n",
    "seq = (\"a\", \"b\", \"c\"); # This is sequence of strings.\n",
    "print (s.join( seq ))"
   ]
  },
  {
   "cell_type": "code",
   "execution_count": 20,
   "metadata": {},
   "outputs": [
    {
     "name": "stdout",
     "output_type": "stream",
     "text": [
      "Length of the string:  32\n"
     ]
    }
   ],
   "source": [
    "str1 = \"this is string example....wow!!!\"\n",
    "print (\"Length of the string: \",\n",
    "len(str1))"
   ]
  },
  {
   "cell_type": "code",
   "execution_count": 21,
   "metadata": {},
   "outputs": [
    {
     "name": "stdout",
     "output_type": "stream",
     "text": [
      "this is string example....wow!!!000000000000000000\n"
     ]
    }
   ],
   "source": [
    "str1 = \"this is string example....wow!!!\"\n",
    "print (str1.ljust(50, '0'))\n"
   ]
  },
  {
   "cell_type": "code",
   "execution_count": 22,
   "metadata": {},
   "outputs": [
    {
     "name": "stdout",
     "output_type": "stream",
     "text": [
      "this is string example....wow!!!\n"
     ]
    }
   ],
   "source": [
    "str1 = \"THIS IS STRING EXAMPLE....WOW!!!\"\n",
    "print (str1.lower())\n"
   ]
  },
  {
   "cell_type": "code",
   "execution_count": 23,
   "metadata": {},
   "outputs": [
    {
     "name": "stdout",
     "output_type": "stream",
     "text": [
      "this is string example....wow!!! \n",
      "this is string example....wow!!!8888888\n"
     ]
    }
   ],
   "source": [
    "str1 = \" this is string example....wow!!! \"\n",
    "print (str1.lstrip())\n",
    "str2 = \"88888888this is string example....wow!!!8888888\"\n",
    "print (str2.lstrip('8'))"
   ]
  },
  {
   "cell_type": "code",
   "execution_count": 24,
   "metadata": {},
   "outputs": [
    {
     "name": "stdout",
     "output_type": "stream",
     "text": [
      "th3s 3s str3ng 2x1mpl2....w4w!!!\n"
     ]
    }
   ],
   "source": [
    "intab = \"aeiou\"\n",
    "outtab = \"12345\"\n",
    "trantab = str.maketrans(intab, outtab)\n",
    "str1 = \"this is string example....wow!!!\"\n",
    "print (str1.translate(trantab))"
   ]
  },
  {
   "cell_type": "code",
   "execution_count": 25,
   "metadata": {},
   "outputs": [
    {
     "name": "stdout",
     "output_type": "stream",
     "text": [
      "Max character: y\n",
      "Max character: x\n"
     ]
    }
   ],
   "source": [
    "str1 = \"this is really a string example....wow!!!\"\n",
    "print (\"Max character: \" + max(str1))\n",
    "str2 = \"this is a string example....wow!!!\"\n",
    "print (\"Max character: \" + max(str2))\n"
   ]
  },
  {
   "cell_type": "code",
   "execution_count": 26,
   "metadata": {},
   "outputs": [
    {
     "name": "stdout",
     "output_type": "stream",
     "text": [
      "Min character: !\n",
      "Min character: !\n"
     ]
    }
   ],
   "source": [
    "str1 = \"this-is-real-string-example....wow!!!\"\n",
    "print (\"Min character: \" + min(str1))\n",
    "str2 = \"this-is-a-string-example....wow!!!\"\n",
    "print (\"Min character: \" + min(str2))"
   ]
  },
  {
   "cell_type": "code",
   "execution_count": 27,
   "metadata": {},
   "outputs": [
    {
     "name": "stdout",
     "output_type": "stream",
     "text": [
      "thwas was string example....wow!!! thwas was really string\n",
      "thwas was string example....wow!!! thwas is really string\n"
     ]
    }
   ],
   "source": [
    "str1 = \"this is string example....wow!!! this is really string\"\n",
    "print (str1.replace(\"is\", \"was\"))\n",
    "print (str1.replace(\"is\", \"was\", 3))\n"
   ]
  },
  {
   "cell_type": "code",
   "execution_count": 28,
   "metadata": {},
   "outputs": [
    {
     "name": "stdout",
     "output_type": "stream",
     "text": [
      "5\n",
      "5\n",
      "-1\n",
      "2\n",
      "2\n",
      "-1\n"
     ]
    }
   ],
   "source": [
    "str1 = \"this is really a string example....wow!!!\"\n",
    "str2 = \"is\"\n",
    "print (str1.rfind(str2))\n",
    "print (str1.rfind(str2, 0, 10))\n",
    "print (str1.rfind(str2, 10, 0))\n",
    "print (str1.find(str2))\n",
    "print (str1.find(str2, 0, 10))\n",
    "print (str1.find(str2, 10, 0))\n"
   ]
  },
  {
   "cell_type": "code",
   "execution_count": 29,
   "metadata": {},
   "outputs": [
    {
     "name": "stdout",
     "output_type": "stream",
     "text": [
      "5\n",
      "2\n"
     ]
    }
   ],
   "source": [
    "str1 = \"this is string example....wow!!!\"\n",
    "str2 = \"is\"\n",
    "print (str1.rindex(str2))\n",
    "print (str1.index(str2))"
   ]
  },
  {
   "cell_type": "code",
   "execution_count": 30,
   "metadata": {},
   "outputs": [
    {
     "name": "stdout",
     "output_type": "stream",
     "text": [
      "000000000000000000this is string example....wow!!!\n"
     ]
    }
   ],
   "source": [
    "str1 = \"this is string example....wow!!!\"\n",
    "print (str1.rjust(50, '0'))\n"
   ]
  },
  {
   "cell_type": "code",
   "execution_count": 31,
   "metadata": {},
   "outputs": [
    {
     "name": "stdout",
     "output_type": "stream",
     "text": [
      " this is string example....wow!!!\n",
      "88888888this is string example....wow!!!\n"
     ]
    }
   ],
   "source": [
    "str1 = \" this is string example....wow!!!    \"\n",
    "print (str.rstrip(str1))\n",
    "str2 = \"88888888this is string example....wow!!!8888888\";\n",
    "print (str2.rstrip('8'))"
   ]
  },
  {
   "cell_type": "code",
   "execution_count": 32,
   "metadata": {},
   "outputs": [
    {
     "name": "stdout",
     "output_type": "stream",
     "text": [
      "['Line1-abcdef', 'Line2-abc', 'Line4-abcd']\n",
      "['Line1-abcdef', '\\nLine2-abc \\nLine4-abcd']\n"
     ]
    }
   ],
   "source": [
    "str1 = \"Line1-abcdef \\nLine2-abc \\nLine4-abcd\"\n",
    "print (str1.split( ))\n",
    "print (str1.split(' ', 1 ))\n"
   ]
  },
  {
   "cell_type": "code",
   "execution_count": 33,
   "metadata": {},
   "outputs": [
    {
     "name": "stdout",
     "output_type": "stream",
     "text": [
      "['Line1-a b c d e f', 'Line2- a b c', '', 'Line4- a b c d']\n",
      "['Line1-a b c d e f', 'Line2- a b c', '', 'Line4- a b c d']\n",
      "['Line1-a b c d e f\\n', 'Line2- a b c\\n', '\\n', 'Line4- a b c d']\n",
      "['Line1-a b c d e f\\n', 'Line2- a b c\\n', '\\n', 'Line4- a b c d']\n",
      "['Line1-a b c d e f\\n', 'Line2- a b c\\n', '\\n', 'Line4- a b c d']\n"
     ]
    }
   ],
   "source": [
    "str1 = \"Line1-a b c d e f\\nLine2- a b c\\n\\nLine4- a b c d\"\n",
    "print (str1.splitlines( ))\n",
    "print (str1.splitlines( 0 ))\n",
    "print (str1.splitlines( 3 ))\n",
    "print (str1.splitlines( 4 ))\n",
    "print (str1.splitlines( 5 ))\n"
   ]
  },
  {
   "cell_type": "code",
   "execution_count": 34,
   "metadata": {},
   "outputs": [
    {
     "name": "stdout",
     "output_type": "stream",
     "text": [
      "True\n",
      "True\n",
      "False\n"
     ]
    }
   ],
   "source": [
    "str1 = \"this is string example....wow!!!\"\n",
    "print (str1.startswith( 'this' ))\n",
    "print (str1.startswith( 'is', 2, 4 ))\n",
    "print (str1.startswith( 'this', 2, 4 ))"
   ]
  },
  {
   "cell_type": "code",
   "execution_count": 35,
   "metadata": {},
   "outputs": [
    {
     "name": "stdout",
     "output_type": "stream",
     "text": [
      "this is string example....wow!!!\n"
     ]
    }
   ],
   "source": [
    "str1 = \"0000000this is string example....wow!!!0000000\"\n",
    "print (str1.strip( '0' ))"
   ]
  },
  {
   "cell_type": "code",
   "execution_count": 36,
   "metadata": {},
   "outputs": [
    {
     "name": "stdout",
     "output_type": "stream",
     "text": [
      "THIS IS STRING EXAMPLE....WOW!!!\n",
      "this is string example....wow!!!\n"
     ]
    }
   ],
   "source": [
    "str1 = \"this is string example....wow!!!\"\n",
    "print (str.swapcase(str1))\n",
    "str1 = \"THIS IS STRING EXAMPLE....WOW!!!\"\n",
    "print (str1.swapcase())"
   ]
  },
  {
   "cell_type": "code",
   "execution_count": 37,
   "metadata": {},
   "outputs": [
    {
     "name": "stdout",
     "output_type": "stream",
     "text": [
      "This Is String Example....Wow!!!\n"
     ]
    }
   ],
   "source": [
    "str1 = \"this is string example....wow!!!\"\n",
    "print(str1.title())"
   ]
  },
  {
   "cell_type": "code",
   "execution_count": 38,
   "metadata": {},
   "outputs": [
    {
     "name": "stdout",
     "output_type": "stream",
     "text": [
      "th3s 3s str3ng 2x1mpl2....w4w!!!\n"
     ]
    }
   ],
   "source": [
    "intab = \"aeiou\"\n",
    "outtab = \"12345\"\n",
    "str1 = \"this is string example....wow!!!\"\n",
    "trantab = str.maketrans(intab, outtab)\n",
    "print (str1.translate(trantab))"
   ]
  },
  {
   "cell_type": "code",
   "execution_count": 39,
   "metadata": {},
   "outputs": [
    {
     "name": "stdout",
     "output_type": "stream",
     "text": [
      "str1.capitalize() :  THIS IS STRING EXAMPLE....WOW!!!\n"
     ]
    }
   ],
   "source": [
    "str1 = \"this is string example....wow!!!\"\n",
    "print (\"str1.capitalize() : \",str1.upper())\n"
   ]
  },
  {
   "cell_type": "code",
   "execution_count": 40,
   "metadata": {},
   "outputs": [
    {
     "name": "stdout",
     "output_type": "stream",
     "text": [
      "00000000this is string example....wow!!!\n",
      "000000000000000000this is string example....wow!!!\n"
     ]
    }
   ],
   "source": [
    "str1 = \"this is string example....wow!!!\"\n",
    "print (str1.zfill(40))\n",
    "print (str1.zfill(50))\n"
   ]
  },
  {
   "cell_type": "code",
   "execution_count": 41,
   "metadata": {},
   "outputs": [
    {
     "name": "stdout",
     "output_type": "stream",
     "text": [
      "False\n",
      "True\n"
     ]
    }
   ],
   "source": [
    "str1 = u\"this2009\" \n",
    "print (str1.isdecimal())\n",
    "str2 = u\"23443434\"\n",
    "print (str2.isdecimal())"
   ]
  },
  {
   "cell_type": "code",
   "execution_count": 42,
   "metadata": {},
   "outputs": [
    {
     "name": "stdout",
     "output_type": "stream",
     "text": [
      "Name: Bob\n",
      "Year of birth: 1998\n",
      "Salary: RM 5500\n"
     ]
    }
   ],
   "source": [
    "name = input(\"Name: \")\n",
    "BOD = input(\"Year of birth: \")\n",
    "salary = input(\"Salary: RM \")"
   ]
  },
  {
   "cell_type": "code",
   "execution_count": 43,
   "metadata": {},
   "outputs": [
    {
     "name": "stdout",
     "output_type": "stream",
     "text": [
      "Goodday Bob your year of birth is 1998 and your age in the year 2030 will be 32 .From your salary of 5500 the computed tax of \n",
      "12.3% is 676.5\n"
     ]
    }
   ],
   "source": [
    "x = 2030  \n",
    "age = x - int(BOD)\n",
    "tax = int(salary)*(12.3/100)\n",
    "tax = round(tax,2)\n",
    "\n",
    "print(\"Goodday\", name ,\"your year of birth is\", BOD ,\"and your age in the year 2030 will be\", age ,\n",
    "      \".From your salary of\", salary ,\"the computed tax of \\n12.3% is\", tax)"
   ]
  },
  {
   "cell_type": "code",
   "execution_count": 44,
   "metadata": {
    "scrolled": true
   },
   "outputs": [
    {
     "name": "stdout",
     "output_type": "stream",
     "text": [
      "Enter the names of people separated by space\n",
      "Bob Ali Sheila Sim Mike\n",
      "\n",
      "\n",
      "Enter the scores of people separated by space\n",
      "88 78 69 91 72\n",
      "\n",
      "\n",
      "Names:  ['Bob', 'Ali', 'Sheila', 'Sim', 'Mike']\n",
      "Score:  ['88', '78', '69', '91', '72']\n",
      "Average Score =  79.6\n"
     ]
    }
   ],
   "source": [
    "x = input('Enter the names of people separated by space\\n')\n",
    "print(\"\\n\")\n",
    "user_list = x.split()\n",
    "\n",
    "\n",
    "y = input('Enter the scores of people separated by space\\n')\n",
    "print(\"\\n\")\n",
    "score_list = y.split()\n",
    "\n",
    "\n",
    "# print list\n",
    "print('Names: ', user_list )\n",
    "print('Score: ', score_list )\n",
    "\n",
    "# convert each item to int type\n",
    "for i in range(len(score_list)):\n",
    "    # convert each item to int type\n",
    "    score_list[i] = int(score_list[i])\n",
    "\n",
    "# Calculating the sum of list elements\n",
    "avg = sum(score_list) / len(score_list)\n",
    "avg = round(avg,2)\n",
    "print(\"Average Score = \",avg)\n",
    " "
   ]
  },
  {
   "cell_type": "code",
   "execution_count": 46,
   "metadata": {},
   "outputs": [
    {
     "name": "stdout",
     "output_type": "stream",
     "text": [
      "Receiver address :Mall of Medini, Anchor 6, 79200 Nusajaya, Johor\n",
      "Sender Address:No 819 Jalan Jambu Bol 9 Taman Muhibbah , 81400, Senai, Johor\n",
      "concerned to : Mr Edwin\n",
      "date: 18/10/2021\n",
      "Reason: AI Developer Job Application\n",
      "Name: Saseendran Nair\n",
      "Phone Number: 0167560030\n",
      "Email Address: saseen1221@gmail.com\n"
     ]
    }
   ],
   "source": [
    "rec_add = input(\"Receiver address :\")\n",
    "send_add = input(\"Sender Address:\")\n",
    "person = input(\"concerned to : \")\n",
    "date = input(\"date: \")\n",
    "Reason = input(\"Reason: \")\n",
    "name = input(\"Name: \")\n",
    "phone = input(\"Phone Number: \")\n",
    "email = input(\"Email Address: \")\n"
   ]
  },
  {
   "cell_type": "code",
   "execution_count": 58,
   "metadata": {},
   "outputs": [
    {
     "name": "stdout",
     "output_type": "stream",
     "text": [
      "Mall of Medini, Anchor 6, 79200 Nusajaya, Johor \n",
      "\n",
      "\n",
      "No 819 Jalan Jambu Bol 9 Taman Muhibbah , 81400, Senai, Johor \n",
      "\n",
      "Dear Mr Edwin \t\t\t\t\t\t\t\t\t\t\t 18/10/2021\n",
      "\n",
      "                                        AI Developer Job Application                                       \n",
      "\n",
      "       I am a profoundly resolved I.T. new alumni\n",
      "that holds a Bachelor in Information Technology\n",
      "(honours)        Artificial intelligence from\n",
      "Multimedia University and am prepared to do\n",
      "working autonomously in the field        of\n",
      "Artificial Intelligence. An eager who likes to\n",
      "step up to the plate and search out new\n",
      "challenges.       In a quest for position where I\n",
      "am fit in aiding the organization and\n",
      "simultaneously,       work on my vision and\n",
      "craftmanship.\n",
      "       I have attached my resume with more\n",
      "information about my education and experiences.\n",
      "I can be reached anytime by phone or email. I look\n",
      "forward to speaking with you soon.\n",
      "Sincerely,\n",
      "\n",
      "\n",
      "Saseendran Nair \n",
      "\n",
      "\n",
      "0167560030\n",
      "saseen1221@gmail.com\n"
     ]
    }
   ],
   "source": [
    "import textwrap as twp\n",
    "\n",
    "print(rec_add,\"\\n\\n\")\n",
    "print(send_add,\"\\n\")\n",
    "\n",
    "print(\"Dear\",person,\"\\t\\t\\t\\t\\t\\t\\t\\t\\t\\t\\t\",date)\n",
    "\n",
    "Rea = Reason.center(105)\n",
    "print(\"\\n\",Rea,\"\\n\")\n",
    "\n",
    "sp1=\"\"\"\n",
    "      I am a profoundly resolved I.T. new alumni that holds a Bachelor in Information Technology (honours) \n",
    "      Artificial intelligence from Multimedia University and am prepared to do working autonomously in the field \n",
    "      of Artificial Intelligence. An eager who likes to step up to the plate and search out new challenges.\n",
    "      In a quest for position where I am fit in aiding the organization and simultaneously,\n",
    "      work on my vision and craftmanship.\n",
    "      \"\"\"\n",
    "\n",
    "sp2=\"\"\"\n",
    "      I have attached my resume with more information about my education and experiences.\n",
    "      I can be reached anytime by phone or email. I look forward to speaking with you soon.\\n\\n\n",
    "      \"\"\"\n",
    "print(twp.fill(sp1, width=50))\n",
    "print(twp.fill(sp2, width=50))\n",
    "print(\"Sincerely,\\n\\n\")\n",
    "print(name,\"\\n\\n\")\n",
    "print(phone)\n",
    "print(email)\n"
   ]
  },
  {
   "cell_type": "code",
   "execution_count": 45,
   "metadata": {},
   "outputs": [],
   "source": []
  },
  {
   "cell_type": "code",
   "execution_count": null,
   "metadata": {},
   "outputs": [],
   "source": []
  }
 ],
 "metadata": {
  "kernelspec": {
   "display_name": "Python 3",
   "language": "python",
   "name": "python3"
  },
  "language_info": {
   "codemirror_mode": {
    "name": "ipython",
    "version": 3
   },
   "file_extension": ".py",
   "mimetype": "text/x-python",
   "name": "python",
   "nbconvert_exporter": "python",
   "pygments_lexer": "ipython3",
   "version": "3.6.9"
  }
 },
 "nbformat": 4,
 "nbformat_minor": 2
}
