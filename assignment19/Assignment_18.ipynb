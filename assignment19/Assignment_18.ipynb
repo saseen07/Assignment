{
 "cells": [
  {
   "cell_type": "markdown",
   "metadata": {},
   "source": [
    "1. Use labelme create a dataset from the class pictures for each face.use as many pictures as possible\n",
    "\n",
    "### Read\n",
    "- labelme_draw_json image\\ss2.json\n",
    "\n",
    "### convert to dataset\n",
    "- labelme_json_to_dataset image\\ss3.json -o ss3_json"
   ]
  },
  {
   "cell_type": "markdown",
   "metadata": {},
   "source": []
  },
  {
   "cell_type": "markdown",
   "metadata": {},
   "source": [
    "## Assignment\n",
    "1. Convert all the json filefrom labelme to cvdataset.npz\n",
    "\n",
    "2. convert labelme json to coco format\n"
   ]
  },
  {
   "cell_type": "code",
   "execution_count": 2,
   "metadata": {},
   "outputs": [
    {
     "name": "stdout",
     "output_type": "stream",
     "text": [
      "uint8\n"
     ]
    },
    {
     "data": {
      "text/plain": [
       "(545, 902, 3)"
      ]
     },
     "execution_count": 2,
     "metadata": {},
     "output_type": "execute_result"
    }
   ],
   "source": [
    "# see load_label_png.py also.\n",
    "import numpy as np\n",
    "import PIL.Image\n",
    "\n",
    "label_png = 'ss1_json/label_viz.png'\n",
    "lbl = np.asarray(PIL.Image.open(label_png))\n",
    "print(lbl.dtype)\n",
    "\n",
    "np.unique(lbl)\n",
    "\n",
    "lbl.shape\n",
    "\n"
   ]
  },
  {
   "cell_type": "code",
   "execution_count": null,
   "metadata": {},
   "outputs": [],
   "source": []
  }
 ],
 "metadata": {
  "interpreter": {
   "hash": "63fd5069d213b44bf678585dea6b12cceca9941eaf7f819626cde1f2670de90d"
  },
  "kernelspec": {
   "display_name": "Python 3.9.9 64-bit",
   "language": "python",
   "name": "python3"
  },
  "language_info": {
   "codemirror_mode": {
    "name": "ipython",
    "version": 3
   },
   "file_extension": ".py",
   "mimetype": "text/x-python",
   "name": "python",
   "nbconvert_exporter": "python",
   "pygments_lexer": "ipython3",
   "version": "3.9.9"
  },
  "orig_nbformat": 4
 },
 "nbformat": 4,
 "nbformat_minor": 2
}
