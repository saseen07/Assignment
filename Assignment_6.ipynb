{
 "cells": [
  {
   "cell_type": "code",
   "execution_count": null,
   "metadata": {},
   "outputs": [],
   "source": [
    "#1. Create an array of shape(10,10) with uint8 random values\n",
    "#2. print the shape, size and dimension\n",
    "#3. compute the sum of third row to the last row\n",
    "#4. compute the average of the columns                 "
   ]
  },
  {
   "cell_type": "code",
   "execution_count": 1,
   "metadata": {},
   "outputs": [],
   "source": [
    "def array_properties(a):\n",
    "    print(\"dim = \", a.ndim)\n",
    "    print(\"shape = \", a.shape)\n",
    "    print(\"size = \", a.size)\n",
    "    print()"
   ]
  },
  {
   "cell_type": "code",
   "execution_count": 33,
   "metadata": {},
   "outputs": [
    {
     "name": "stdout",
     "output_type": "stream",
     "text": [
      "dim =  2\n",
      "shape =  (10, 10)\n",
      "size =  100\n",
      "\n"
     ]
    }
   ],
   "source": [
    "import numpy as np\n",
    "\n",
    "r2 = np.random.randint(0,256,(10,10),dtype=np.uint8)\n",
    "\n",
    "#print(r2)\n",
    "array_properties(r2)"
   ]
  },
  {
   "cell_type": "code",
   "execution_count": 40,
   "metadata": {},
   "outputs": [
    {
     "name": "stdout",
     "output_type": "stream",
     "text": [
      "Rows from third to last :\n",
      "  [[  0  65 171  90  48  85 191   6 169 181]\n",
      " [195  84 237   1 191 189 190 215 155  42]\n",
      " [172  44 236 195   8 205 182  85 197 118]\n",
      " [227 157 164 136   4  52 134 176 160 181]\n",
      " [ 82 208 136 140 237 139 211 153  19  88]\n",
      " [131 221 162 223 241 105 163 210  22  19]\n",
      " [252  21   1  93 232 147 231 216  42  54]\n",
      " [ 48 244 194 211 247 129  88 101 129 241]]\n",
      "\n",
      "Sum of third row to the last row:  11169\n"
     ]
    }
   ],
   "source": [
    "print('Rows from third to last :\\n ',r2[2:])\n",
    "print('\\nSum of third row to the last row: ',np.sum(r2[2:]))"
   ]
  },
  {
   "cell_type": "code",
   "execution_count": 47,
   "metadata": {},
   "outputs": [
    {
     "name": "stdout",
     "output_type": "stream",
     "text": [
      "\n",
      "Sum of third row to the last row:  138.76\n"
     ]
    }
   ],
   "source": [
    "print('\\nSum of third row to the last row: ',np.mean(r2[0:]))"
   ]
  },
  {
   "cell_type": "code",
   "execution_count": null,
   "metadata": {},
   "outputs": [],
   "source": []
  },
  {
   "cell_type": "code",
   "execution_count": null,
   "metadata": {},
   "outputs": [],
   "source": []
  }
 ],
 "metadata": {
  "kernelspec": {
   "display_name": "Python 3",
   "language": "python",
   "name": "python3"
  },
  "language_info": {
   "codemirror_mode": {
    "name": "ipython",
    "version": 3
   },
   "file_extension": ".py",
   "mimetype": "text/x-python",
   "name": "python",
   "nbconvert_exporter": "python",
   "pygments_lexer": "ipython3",
   "version": "3.6.9"
  }
 },
 "nbformat": 4,
 "nbformat_minor": 2
}
