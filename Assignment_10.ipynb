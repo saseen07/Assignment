{
 "cells": [
  {
   "cell_type": "markdown",
   "metadata": {},
   "source": [
    "##### 1. create a border round any chosen image, make sure the border is 10% of the image shape.\n",
    "\n",
    "##### 2. At the center of the image create a yellow square of 20% minimum of the image shape\n",
    "\n",
    "##### 3. Create a fray image from question 1 and draw a square (10%) of white at four corners of the image \n",
    "\n",
    "##### 4. Make sure you save the two resulting images. "
   ]
  },
  {
   "cell_type": "markdown",
   "metadata": {},
   "source": [
    "### PART 1"
   ]
  },
  {
   "cell_type": "code",
   "execution_count": 2,
   "metadata": {},
   "outputs": [
    {
     "name": "stdout",
     "output_type": "stream",
     "text": [
      "dimension (height, width, channel):  (480, 853, 3)\n",
      "size (height * width * channel):  1228320\n",
      "data type:  uint8\n"
     ]
    }
   ],
   "source": [
    "import cv2 as cv\n",
    "  \n",
    "try:\n",
    "    filepath = '../essential/assets/ca.jpg'\n",
    "    \n",
    "    img = cv.imread(filepath)\n",
    "    \n",
    "    print('dimension (height, width, channel): ', img.shape)\n",
    "    print('size (height * width * channel): ', img.size)\n",
    "    print('data type: ', img.dtype)\n",
    "    \n",
    "    cv.imshow(f'Ca : {img.shape}',img)\n",
    "    cv.waitKey(0)\n",
    "    \n",
    "   #receive border size\n",
    "    #kb = input(\"Enter border size : \")\n",
    "    m,n,X = img.shape\n",
    "    top = int(n*10/100)\n",
    "    side = int(m*10/100)\n",
    "    imgwithborder = img.copy()\n",
    "    #top border\n",
    "    imgwithborder[:top,:] = [255,255,51] \n",
    "    cv.imshow(\" Top Border \",imgwithborder)\n",
    "    cv.waitKey(0)\n",
    "    \n",
    "    #bottom border\n",
    "    imgwithborder[-top:,:] = [102,255,102] \n",
    "    cv.imshow(\" Bottom Border \",imgwithborder)\n",
    "    cv.waitKey(0)\n",
    "   \n",
    "     #left border\n",
    "    imgwithborder[:,:side] = [178,102,255] #Purple\n",
    "    cv.imshow(\"Left Border \",imgwithborder)\n",
    "    cv.waitKey(0)\n",
    "    \n",
    "     #Right border\n",
    "    imgwithborder[:,-side:] = [128,128,128] # Teal\n",
    "    cv.imshow(\"Right Borders \",imgwithborder)\n",
    "    cv.waitKey(0)\n",
    "    \n",
    "    cv.imshow(\" All Borders \",imgwithborder)\n",
    "    cv.waitKey(0)\n",
    "    \n",
    "except Exception as ex:\n",
    "    print(ex)\n",
    "        \n",
    "finally:\n",
    "    cv.imwrite(\"border.png\", imgwithborder)\n",
    "    cv.destroyAllWindows()"
   ]
  },
  {
   "cell_type": "markdown",
   "metadata": {},
   "source": [
    "### Part 2\n"
   ]
  },
  {
   "cell_type": "code",
   "execution_count": null,
   "metadata": {},
   "outputs": [],
   "source": [
    "import cv2 as cv\n",
    "  \n",
    "try:\n",
    "    filepath = 'border.png'\n",
    "    \n",
    "    img = cv.imread(filepath)\n",
    "    \n",
    "    print('dimension (height, width, channel): ', img.shape)\n",
    "    print('size (height * width * channel): ', img.size)\n",
    "    print('data type: ', img.dtype)\n",
    "    \n",
    "    cv.imshow(f'Ca : {img.shape}',img)\n",
    "    cv.waitKey(0)\n",
    "    \n",
    "   #receive border size\n",
    "    #kb = input(\"Enter border size : \")\n",
    "    m,n,X = img.shape\n",
    "    top = int(n*20/100)\n",
    "    side = int(m*20/100)\n",
    "    imgCenter = img.copy()\n",
    "    #top border\n",
    "    imgCenter[top:-top,side:-side]= [0,255,255]\n",
    "    cv.imshow(\" Yellow Center \",imgCenter)\n",
    "    cv.waitKey(0)\n",
    "       \n",
    "except Exception as ex:\n",
    "    print(ex)\n",
    "        \n",
    "finally:\n",
    "    cv.imwrite(\"center.png\", imgCenter)\n",
    "    cv.destroyAllWindows()"
   ]
  },
  {
   "cell_type": "code",
   "execution_count": null,
   "metadata": {},
   "outputs": [],
   "source": [
    "import cv2 as cv\n",
    "\n",
    "\n",
    "    \n",
    "try:\n",
    "    filepath = 'center.png'\n",
    "    \n",
    "    img = cv.imread(filepath)\n",
    "    \n",
    "    print('dimension (height, width, channel): ', img.shape)\n",
    "    print('size (height * width * channel): ', img.size)\n",
    "    print('data type: ', img.dtype)\n",
    "    \n",
    "    cv.imshow(f'Ca : {img.shape}',img)\n",
    "    cv.waitKey(0)\n",
    "    \n",
    "   #receive border size\n",
    "    m,n,X = img.shape\n",
    "    top = int(n*10/100)\n",
    "    side = int(m*10/100)\n",
    "    imgCorner = img.copy()\n",
    "    #top left\n",
    "    imgCorner[:top,:side] = [255,255,255]\n",
    "    cv.imshow(\" Top left corner \",imgCorner)\n",
    "    cv.waitKey(0)\n",
    "    \n",
    "    #Top Right \n",
    "    imgCorner[:top,-side:] = [255,255,255]\n",
    "    cv.imshow(\"Top Right Corner \",imgCorner)\n",
    "    cv.waitKey(0)\n",
    "    \n",
    "    #bottom right\n",
    "    imgCorner[-top:,-side:] = [255,255,255]\n",
    "    cv.imshow(\"Bottom Right Corner \",imgCorner)\n",
    "    cv.waitKey(0)\n",
    "   \n",
    "     #Bottom Left\n",
    "    imgCorner[-top:,:side] =[255,255,255]\n",
    "    cv.imshow(\"Bottom Left Corner \",imgCorner)\n",
    "    cv.waitKey(0)\n",
    "    \n",
    "     \n",
    "    \n",
    "    cv.imshow(\" All Corners \",imgCorner)\n",
    "    cv.waitKey(0)\n",
    "    \n",
    "except Exception as ex:\n",
    "    print(ex)\n",
    "        \n",
    "finally:\n",
    "    cv.imwrite(\"White Corners.png\", imgCorner)\n",
    "    cv.destroyAllWindows()"
   ]
  },
  {
   "cell_type": "code",
   "execution_count": null,
   "metadata": {},
   "outputs": [],
   "source": []
  }
 ],
 "metadata": {
  "kernelspec": {
   "display_name": "Python 3",
   "language": "python",
   "name": "python3"
  },
  "language_info": {
   "codemirror_mode": {
    "name": "ipython",
    "version": 3
   },
   "file_extension": ".py",
   "mimetype": "text/x-python",
   "name": "python",
   "nbconvert_exporter": "python",
   "pygments_lexer": "ipython3",
   "version": "3.6.9"
  }
 },
 "nbformat": 4,
 "nbformat_minor": 2
}
